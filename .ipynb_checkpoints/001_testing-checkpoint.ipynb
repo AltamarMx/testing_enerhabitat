{
 "cells": [
  {
   "cell_type": "code",
   "execution_count": 1,
   "id": "667a0d0f-d4a0-4289-a0b3-9a0740729067",
   "metadata": {},
   "outputs": [],
   "source": [
    "import enerhabitat as eh\n",
    "import pandas as pd \n",
    "import plotly.express as px\n"
   ]
  },
  {
   "cell_type": "code",
   "execution_count": 2,
   "id": "017a51ed-f1e0-43f1-bead-22b07f49ebeb",
   "metadata": {},
   "outputs": [],
   "source": [
    "eh.Nx = 200\n",
    "eh.dt = 1\n",
    "eh.materials('./eh_config/materials.ini')\n",
    "dia_promedio = eh.meanDay(epw_file=\"epw/Torreon.epw\",month='05')\n",
    "tsa_df = eh.Tsa(\n",
    "    meanDay_dataframe=dia_promedio,\n",
    "    solar_absortance=0.4,\n",
    "    surface_tilt=90, \n",
    "    surface_azimuth=180,\n",
    "    )\n",
    "\n",
    "sc = [\n",
    "    (\"EPS\", 0.1),\n",
    "    # (\"Acero\", 0.1),\n",
    "#    (\"brick\", 0.2),\n",
    "#    (\"concrete\", 0.1),\n",
    "]\n",
    "\n"
   ]
  },
  {
   "cell_type": "code",
   "execution_count": 3,
   "id": "25ee02ed-df73-4e88-b8b6-e3f254422fd6",
   "metadata": {},
   "outputs": [
    {
     "name": "stdout",
     "output_type": "stream",
     "text": [
      "CPU times: user 39 s, sys: 126 ms, total: 39.1 s\n",
      "Wall time: 39.2 s\n"
     ]
    }
   ],
   "source": [
    "%time sc_df, ET = eh.solveCS(sc, tsa_df,Energia=True)"
   ]
  },
  {
   "cell_type": "code",
   "execution_count": 4,
   "id": "353f43c0-b1dd-47ab-bb8b-9349034fedbd",
   "metadata": {},
   "outputs": [
    {
     "data": {
      "application/vnd.plotly.v1+json": {
       "config": {
        "plotlyServerURL": "https://plot.ly"
       },
       "data": [
        {
         "hovertemplate": "variable=Ta<br>index=%{x}<br>value=%{y}<extra></extra>",
         "legendgroup": "Ta",
         "marker": {
          "color": "#636efa",
          "symbol": "circle"
         },
         "mode": "markers",
         "name": "Ta",
         "orientation": "v",
         "showlegend": true,
         "type": "scatter",
         "x": [
          "2025-05-15T00:00:00-06:00",
          "2025-05-15T00:20:00-06:00",
          "2025-05-15T00:40:00-06:00",
          "2025-05-15T01:00:00-06:00",
          "2025-05-15T01:20:00-06:00",
          "2025-05-15T01:40:00-06:00",
          "2025-05-15T02:00:00-06:00",
          "2025-05-15T02:20:00-06:00",
          "2025-05-15T02:40:00-06:00",
          "2025-05-15T03:00:00-06:00",
          "2025-05-15T03:20:00-06:00",
          "2025-05-15T03:40:00-06:00",
          "2025-05-15T04:00:00-06:00",
          "2025-05-15T04:20:00-06:00",
          "2025-05-15T04:40:00-06:00",
          "2025-05-15T05:00:00-06:00",
          "2025-05-15T05:20:00-06:00",
          "2025-05-15T05:40:00-06:00",
          "2025-05-15T06:00:00-06:00",
          "2025-05-15T06:20:00-06:00",
          "2025-05-15T06:40:00-06:00",
          "2025-05-15T07:00:00-06:00",
          "2025-05-15T07:20:00-06:00",
          "2025-05-15T07:40:00-06:00",
          "2025-05-15T08:00:00-06:00",
          "2025-05-15T08:20:00-06:00",
          "2025-05-15T08:40:00-06:00",
          "2025-05-15T09:00:00-06:00",
          "2025-05-15T09:20:00-06:00",
          "2025-05-15T09:40:00-06:00",
          "2025-05-15T10:00:00-06:00",
          "2025-05-15T10:20:00-06:00",
          "2025-05-15T10:40:00-06:00",
          "2025-05-15T11:00:00-06:00",
          "2025-05-15T11:20:00-06:00",
          "2025-05-15T11:40:00-06:00",
          "2025-05-15T12:00:00-06:00",
          "2025-05-15T12:20:00-06:00",
          "2025-05-15T12:40:00-06:00",
          "2025-05-15T13:00:00-06:00",
          "2025-05-15T13:20:00-06:00",
          "2025-05-15T13:40:00-06:00",
          "2025-05-15T14:00:00-06:00",
          "2025-05-15T14:20:00-06:00",
          "2025-05-15T14:40:00-06:00",
          "2025-05-15T15:00:00-06:00",
          "2025-05-15T15:20:00-06:00",
          "2025-05-15T15:40:00-06:00",
          "2025-05-15T16:00:00-06:00",
          "2025-05-15T16:20:00-06:00",
          "2025-05-15T16:40:00-06:00",
          "2025-05-15T17:00:00-06:00",
          "2025-05-15T17:20:00-06:00",
          "2025-05-15T17:40:00-06:00",
          "2025-05-15T18:00:00-06:00",
          "2025-05-15T18:20:00-06:00",
          "2025-05-15T18:40:00-06:00",
          "2025-05-15T19:00:00-06:00",
          "2025-05-15T19:20:00-06:00",
          "2025-05-15T19:40:00-06:00",
          "2025-05-15T20:00:00-06:00",
          "2025-05-15T20:20:00-06:00",
          "2025-05-15T20:40:00-06:00",
          "2025-05-15T21:00:00-06:00",
          "2025-05-15T21:20:00-06:00",
          "2025-05-15T21:40:00-06:00",
          "2025-05-15T22:00:00-06:00",
          "2025-05-15T22:20:00-06:00",
          "2025-05-15T22:40:00-06:00",
          "2025-05-15T23:00:00-06:00",
          "2025-05-15T23:20:00-06:00",
          "2025-05-15T23:40:00-06:00"
         ],
         "xaxis": "x",
         "y": {
          "bdata": "GGgurfM3OkBNzmVVRcI5QIaXmuOvTzlAVU+jCrvgOEDQ458x6nU4QAG0W9i7DzhAEkZ+AamuN0ChDzyjJFM3QPEHMR+b/TZA/j8GwnGuNkDVgXpLBmY2QNoJXH+uJDZAutX2v7fqNUA70m+yZrg1QOdvee32jTVAA+XBspprNUCcr26zelE1QNjT69+1PzVAquhHQ2E2NUBx9RpFBjc1QGw6vAppTzVARte7SYmCNUBHKbV5pc81QJpM7rWZNTZAqOxHDuSyNkCsWiw8qkU3QCOu46XA6zdAfuDAlbKiOEAcgQ6Gy2c5QDoDil4hODpAGkOqfJ8QO0AGN+5cEu47QKIuD7kzzTxAx4k37baqPUDD+1F1VYM+QEw5KlPbUz9ALNg3l5kMQEBqKloAOWhAQAZcnBBxu0BAMIVawwYFQUAmrSWM40NBQAuIL3UZd0FAcGgRpOadQUC/lJw3uLdBQAk32nMsxEFA8LfJ7qbEQUBX/FCaEcBBQM5D3QJEt0FAfU9NlUiqQUDun3qxLplBQChVBJgKhEFAXCtTUvVqQUCf+/KUDE5BQPXdZJxyLUFADpaTBE4JQUD4ThqbyeFAQAjMkywUt0BAFhcuTWCJQEDcTsQc5FhAQGyFxQbZJUBAMC9p/PbgP0CwCiNsFXI/QPYlAq2Q/z5AgKwWXvCJPkCsiZrMvxE+QDq++E6Nlz1AXU08nOkbPUBiYq4gZ588QKmlblCZIjxAvBzT+BOmO0CYY16Raio7QA+KG40vsDpA",
          "dtype": "f8"
         },
         "yaxis": "y"
        },
        {
         "hovertemplate": "variable=Tsa_1<br>index=%{x}<br>value=%{y}<extra></extra>",
         "legendgroup": "Tsa_1",
         "marker": {
          "color": "#EF553B",
          "symbol": "circle"
         },
         "mode": "markers",
         "name": "Tsa_1",
         "orientation": "v",
         "showlegend": true,
         "type": "scatter",
         "x": [
          "2025-05-15T00:00:00-06:00",
          "2025-05-15T00:20:00-06:00",
          "2025-05-15T00:40:00-06:00",
          "2025-05-15T01:00:00-06:00",
          "2025-05-15T01:20:00-06:00",
          "2025-05-15T01:40:00-06:00",
          "2025-05-15T02:00:00-06:00",
          "2025-05-15T02:20:00-06:00",
          "2025-05-15T02:40:00-06:00",
          "2025-05-15T03:00:00-06:00",
          "2025-05-15T03:20:00-06:00",
          "2025-05-15T03:40:00-06:00",
          "2025-05-15T04:00:00-06:00",
          "2025-05-15T04:20:00-06:00",
          "2025-05-15T04:40:00-06:00",
          "2025-05-15T05:00:00-06:00",
          "2025-05-15T05:20:00-06:00",
          "2025-05-15T05:40:00-06:00",
          "2025-05-15T06:00:00-06:00",
          "2025-05-15T06:20:00-06:00",
          "2025-05-15T06:40:00-06:00",
          "2025-05-15T07:00:00-06:00",
          "2025-05-15T07:20:00-06:00",
          "2025-05-15T07:40:00-06:00",
          "2025-05-15T08:00:00-06:00",
          "2025-05-15T08:20:00-06:00",
          "2025-05-15T08:40:00-06:00",
          "2025-05-15T09:00:00-06:00",
          "2025-05-15T09:20:00-06:00",
          "2025-05-15T09:40:00-06:00",
          "2025-05-15T10:00:00-06:00",
          "2025-05-15T10:20:00-06:00",
          "2025-05-15T10:40:00-06:00",
          "2025-05-15T11:00:00-06:00",
          "2025-05-15T11:20:00-06:00",
          "2025-05-15T11:40:00-06:00",
          "2025-05-15T12:00:00-06:00",
          "2025-05-15T12:20:00-06:00",
          "2025-05-15T12:40:00-06:00",
          "2025-05-15T13:00:00-06:00",
          "2025-05-15T13:20:00-06:00",
          "2025-05-15T13:40:00-06:00",
          "2025-05-15T14:00:00-06:00",
          "2025-05-15T14:20:00-06:00",
          "2025-05-15T14:40:00-06:00",
          "2025-05-15T15:00:00-06:00",
          "2025-05-15T15:20:00-06:00",
          "2025-05-15T15:40:00-06:00",
          "2025-05-15T16:00:00-06:00",
          "2025-05-15T16:20:00-06:00",
          "2025-05-15T16:40:00-06:00",
          "2025-05-15T17:00:00-06:00",
          "2025-05-15T17:20:00-06:00",
          "2025-05-15T17:40:00-06:00",
          "2025-05-15T18:00:00-06:00",
          "2025-05-15T18:20:00-06:00",
          "2025-05-15T18:40:00-06:00",
          "2025-05-15T19:00:00-06:00",
          "2025-05-15T19:20:00-06:00",
          "2025-05-15T19:40:00-06:00",
          "2025-05-15T20:00:00-06:00",
          "2025-05-15T20:20:00-06:00",
          "2025-05-15T20:40:00-06:00",
          "2025-05-15T21:00:00-06:00",
          "2025-05-15T21:20:00-06:00",
          "2025-05-15T21:40:00-06:00",
          "2025-05-15T22:00:00-06:00",
          "2025-05-15T22:20:00-06:00",
          "2025-05-15T22:40:00-06:00",
          "2025-05-15T23:00:00-06:00",
          "2025-05-15T23:20:00-06:00",
          "2025-05-15T23:40:00-06:00"
         ],
         "xaxis": "x",
         "y": {
          "bdata": "GGgurfM3OkBNzmVVRcI5QIaXmuOvTzlAVU+jCrvgOEDQ458x6nU4QAG0W9i7DzhAEkZ+AamuN0ChDzyjJFM3QPEHMR+b/TZA/j8GwnGuNkDVgXpLBmY2QNoJXH+uJDZAutX2v7fqNUA70m+yZrg1QOdvee32jTVAA+XBspprNUCkhRmKimM1QOh/QY3VYzVAw2pIx5BsNUDETDV/+sQ1QPlm8PohNTZADdkJ8AbANkCcg5z3pIs3QHz/bgsbcDhAF/hhO+drOUCyBjcQkHc6QL/63iCJljtAsM2st13GPEC2+zPN++M9QDsL6crWDD9AW1mbQS8zQEC2uIN4zQhBQOI5zJ9P20FAO+3gWuenQkB4dmEIXWFDQKu5n0fGDURA6k21iR2rRECf+nIh+SJFQBofGSINiEVA4NXc3RTZRUAWEsZVjgZGQPYXc12LHkZAxXfhtcogRkDtO9GayvFFQKR1C/W0r0VA1B4eYUVdRUB/MnuNQ/BEQFBR4u5We0RAvAFpL2YzREBlgT+1QeRDQNhlcgUTkUNARGtqKfM5Q0AbNorGHeBCQAUTfCiXgkJAs8Uq64UhQkArHZJqC6hBQMk47ORfK0FAZSJn7rWrQEAQAZXdx29AQIbeLedKMUBAMC9p/PbgP0CwCiNsFXI/QPYlAq2Q/z5AgKwWXvCJPkCsiZrMvxE+QDq++E6Nlz1AXU08nOkbPUBiYq4gZ588QKmlblCZIjxAvBzT+BOmO0CYY16Raio7QA+KG40vsDpA",
          "dtype": "f8"
         },
         "yaxis": "y"
        },
        {
         "hovertemplate": "variable=Ti_1<br>index=%{x}<br>value=%{y}<extra></extra>",
         "legendgroup": "Ti_1",
         "marker": {
          "color": "#00cc96",
          "symbol": "circle"
         },
         "mode": "markers",
         "name": "Ti_1",
         "orientation": "v",
         "showlegend": true,
         "type": "scatter",
         "x": [
          "2025-05-15T00:00:00-06:00",
          "2025-05-15T00:20:00-06:00",
          "2025-05-15T00:40:00-06:00",
          "2025-05-15T01:00:00-06:00",
          "2025-05-15T01:20:00-06:00",
          "2025-05-15T01:40:00-06:00",
          "2025-05-15T02:00:00-06:00",
          "2025-05-15T02:20:00-06:00",
          "2025-05-15T02:40:00-06:00",
          "2025-05-15T03:00:00-06:00",
          "2025-05-15T03:20:00-06:00",
          "2025-05-15T03:40:00-06:00",
          "2025-05-15T04:00:00-06:00",
          "2025-05-15T04:20:00-06:00",
          "2025-05-15T04:40:00-06:00",
          "2025-05-15T05:00:00-06:00",
          "2025-05-15T05:20:00-06:00",
          "2025-05-15T05:40:00-06:00",
          "2025-05-15T06:00:00-06:00",
          "2025-05-15T06:20:00-06:00",
          "2025-05-15T06:40:00-06:00",
          "2025-05-15T07:00:00-06:00",
          "2025-05-15T07:20:00-06:00",
          "2025-05-15T07:40:00-06:00",
          "2025-05-15T08:00:00-06:00",
          "2025-05-15T08:20:00-06:00",
          "2025-05-15T08:40:00-06:00",
          "2025-05-15T09:00:00-06:00",
          "2025-05-15T09:20:00-06:00",
          "2025-05-15T09:40:00-06:00",
          "2025-05-15T10:00:00-06:00",
          "2025-05-15T10:20:00-06:00",
          "2025-05-15T10:40:00-06:00",
          "2025-05-15T11:00:00-06:00",
          "2025-05-15T11:20:00-06:00",
          "2025-05-15T11:40:00-06:00",
          "2025-05-15T12:00:00-06:00",
          "2025-05-15T12:20:00-06:00",
          "2025-05-15T12:40:00-06:00",
          "2025-05-15T13:00:00-06:00",
          "2025-05-15T13:20:00-06:00",
          "2025-05-15T13:40:00-06:00",
          "2025-05-15T14:00:00-06:00",
          "2025-05-15T14:20:00-06:00",
          "2025-05-15T14:40:00-06:00",
          "2025-05-15T15:00:00-06:00",
          "2025-05-15T15:20:00-06:00",
          "2025-05-15T15:40:00-06:00",
          "2025-05-15T16:00:00-06:00",
          "2025-05-15T16:20:00-06:00",
          "2025-05-15T16:40:00-06:00",
          "2025-05-15T17:00:00-06:00",
          "2025-05-15T17:20:00-06:00",
          "2025-05-15T17:40:00-06:00",
          "2025-05-15T18:00:00-06:00",
          "2025-05-15T18:20:00-06:00",
          "2025-05-15T18:40:00-06:00",
          "2025-05-15T19:00:00-06:00",
          "2025-05-15T19:20:00-06:00",
          "2025-05-15T19:40:00-06:00",
          "2025-05-15T20:00:00-06:00",
          "2025-05-15T20:20:00-06:00",
          "2025-05-15T20:40:00-06:00",
          "2025-05-15T21:00:00-06:00",
          "2025-05-15T21:20:00-06:00",
          "2025-05-15T21:40:00-06:00",
          "2025-05-15T22:00:00-06:00",
          "2025-05-15T22:20:00-06:00",
          "2025-05-15T22:40:00-06:00",
          "2025-05-15T23:00:00-06:00",
          "2025-05-15T23:20:00-06:00",
          "2025-05-15T23:40:00-06:00"
         ],
         "xaxis": "x",
         "y": {
          "bdata": "pB7BmsxRO0CPXi5lptg6QN86zYxmYTpAB8LXe5HsOUAFq+ffq3o5QNpaie44DDlADeTUGLmhOED6I8oGqTs4QGE1UL6A2jdACepO5LJ+N0Dbok4PrCg3QAabBSnS2DZAnmP/3oOPNkDoBvoiGE02QNK16rrdETZAxw/W3xreNUBQOCf+MrY1QDyf/fSKmjVAQhwFbzGKNUCft5yXl5Q1QGFxGB1XvTVAGWkVlPoDNkAM4LnkSHA2QGrApsh6ATdAiVgghOuzN0A9W8sGqYI4QHZivgZpajlAUB1JL5JoOkD4r6l3NHM7QEl1gXtghzxAbYNiIqatPUBQ0BiZEfc+QEYFqbI8L0BAJ/2cphbsQEAAw3aQG6pBQHh8CAENZEJA7Hnpwj4WQ0CbiLf0B7lDQBZhOPmmSURAbcLDkTXHREAMKic5wC1FQG/y0CCRfEVAMuwalBK0RUBcmln3cM5FQHfokDVczEVAqonBzgixRUDuT8IJAH1FQNbxL0YkNEVAaWO+kaPmREDd053jNphEQOG198SMSERASS9gUdj2Q0DkKBD0wKJDQHlBWsHqS0NAHcHg0BHyQkDF2ySUPZBCQOuiKnIsJkJA4UpCDjS1QUBLOwqa1k5BQNRMT97T9EBAGqiovJajQEDtcx8nQlpAQD1Fg9OCFkBAktpZSC6sP0BHB6980C4/QCRFEQr0sj5A86VXb303PkDIpaNH5bs9QPG+NPYFQD1AXCdiGPrDPED22a1MBkg8QCskjW2KzDtA",
          "dtype": "f8"
         },
         "yaxis": "y"
        }
       ],
       "layout": {
        "legend": {
         "title": {
          "text": "variable"
         },
         "tracegroupgap": 0
        },
        "margin": {
         "t": 60
        },
        "template": {
         "data": {
          "bar": [
           {
            "error_x": {
             "color": "#2a3f5f"
            },
            "error_y": {
             "color": "#2a3f5f"
            },
            "marker": {
             "line": {
              "color": "#E5ECF6",
              "width": 0.5
             },
             "pattern": {
              "fillmode": "overlay",
              "size": 10,
              "solidity": 0.2
             }
            },
            "type": "bar"
           }
          ],
          "barpolar": [
           {
            "marker": {
             "line": {
              "color": "#E5ECF6",
              "width": 0.5
             },
             "pattern": {
              "fillmode": "overlay",
              "size": 10,
              "solidity": 0.2
             }
            },
            "type": "barpolar"
           }
          ],
          "carpet": [
           {
            "aaxis": {
             "endlinecolor": "#2a3f5f",
             "gridcolor": "white",
             "linecolor": "white",
             "minorgridcolor": "white",
             "startlinecolor": "#2a3f5f"
            },
            "baxis": {
             "endlinecolor": "#2a3f5f",
             "gridcolor": "white",
             "linecolor": "white",
             "minorgridcolor": "white",
             "startlinecolor": "#2a3f5f"
            },
            "type": "carpet"
           }
          ],
          "choropleth": [
           {
            "colorbar": {
             "outlinewidth": 0,
             "ticks": ""
            },
            "type": "choropleth"
           }
          ],
          "contour": [
           {
            "colorbar": {
             "outlinewidth": 0,
             "ticks": ""
            },
            "colorscale": [
             [
              0,
              "#0d0887"
             ],
             [
              0.1111111111111111,
              "#46039f"
             ],
             [
              0.2222222222222222,
              "#7201a8"
             ],
             [
              0.3333333333333333,
              "#9c179e"
             ],
             [
              0.4444444444444444,
              "#bd3786"
             ],
             [
              0.5555555555555556,
              "#d8576b"
             ],
             [
              0.6666666666666666,
              "#ed7953"
             ],
             [
              0.7777777777777778,
              "#fb9f3a"
             ],
             [
              0.8888888888888888,
              "#fdca26"
             ],
             [
              1,
              "#f0f921"
             ]
            ],
            "type": "contour"
           }
          ],
          "contourcarpet": [
           {
            "colorbar": {
             "outlinewidth": 0,
             "ticks": ""
            },
            "type": "contourcarpet"
           }
          ],
          "heatmap": [
           {
            "colorbar": {
             "outlinewidth": 0,
             "ticks": ""
            },
            "colorscale": [
             [
              0,
              "#0d0887"
             ],
             [
              0.1111111111111111,
              "#46039f"
             ],
             [
              0.2222222222222222,
              "#7201a8"
             ],
             [
              0.3333333333333333,
              "#9c179e"
             ],
             [
              0.4444444444444444,
              "#bd3786"
             ],
             [
              0.5555555555555556,
              "#d8576b"
             ],
             [
              0.6666666666666666,
              "#ed7953"
             ],
             [
              0.7777777777777778,
              "#fb9f3a"
             ],
             [
              0.8888888888888888,
              "#fdca26"
             ],
             [
              1,
              "#f0f921"
             ]
            ],
            "type": "heatmap"
           }
          ],
          "histogram": [
           {
            "marker": {
             "pattern": {
              "fillmode": "overlay",
              "size": 10,
              "solidity": 0.2
             }
            },
            "type": "histogram"
           }
          ],
          "histogram2d": [
           {
            "colorbar": {
             "outlinewidth": 0,
             "ticks": ""
            },
            "colorscale": [
             [
              0,
              "#0d0887"
             ],
             [
              0.1111111111111111,
              "#46039f"
             ],
             [
              0.2222222222222222,
              "#7201a8"
             ],
             [
              0.3333333333333333,
              "#9c179e"
             ],
             [
              0.4444444444444444,
              "#bd3786"
             ],
             [
              0.5555555555555556,
              "#d8576b"
             ],
             [
              0.6666666666666666,
              "#ed7953"
             ],
             [
              0.7777777777777778,
              "#fb9f3a"
             ],
             [
              0.8888888888888888,
              "#fdca26"
             ],
             [
              1,
              "#f0f921"
             ]
            ],
            "type": "histogram2d"
           }
          ],
          "histogram2dcontour": [
           {
            "colorbar": {
             "outlinewidth": 0,
             "ticks": ""
            },
            "colorscale": [
             [
              0,
              "#0d0887"
             ],
             [
              0.1111111111111111,
              "#46039f"
             ],
             [
              0.2222222222222222,
              "#7201a8"
             ],
             [
              0.3333333333333333,
              "#9c179e"
             ],
             [
              0.4444444444444444,
              "#bd3786"
             ],
             [
              0.5555555555555556,
              "#d8576b"
             ],
             [
              0.6666666666666666,
              "#ed7953"
             ],
             [
              0.7777777777777778,
              "#fb9f3a"
             ],
             [
              0.8888888888888888,
              "#fdca26"
             ],
             [
              1,
              "#f0f921"
             ]
            ],
            "type": "histogram2dcontour"
           }
          ],
          "mesh3d": [
           {
            "colorbar": {
             "outlinewidth": 0,
             "ticks": ""
            },
            "type": "mesh3d"
           }
          ],
          "parcoords": [
           {
            "line": {
             "colorbar": {
              "outlinewidth": 0,
              "ticks": ""
             }
            },
            "type": "parcoords"
           }
          ],
          "pie": [
           {
            "automargin": true,
            "type": "pie"
           }
          ],
          "scatter": [
           {
            "fillpattern": {
             "fillmode": "overlay",
             "size": 10,
             "solidity": 0.2
            },
            "type": "scatter"
           }
          ],
          "scatter3d": [
           {
            "line": {
             "colorbar": {
              "outlinewidth": 0,
              "ticks": ""
             }
            },
            "marker": {
             "colorbar": {
              "outlinewidth": 0,
              "ticks": ""
             }
            },
            "type": "scatter3d"
           }
          ],
          "scattercarpet": [
           {
            "marker": {
             "colorbar": {
              "outlinewidth": 0,
              "ticks": ""
             }
            },
            "type": "scattercarpet"
           }
          ],
          "scattergeo": [
           {
            "marker": {
             "colorbar": {
              "outlinewidth": 0,
              "ticks": ""
             }
            },
            "type": "scattergeo"
           }
          ],
          "scattergl": [
           {
            "marker": {
             "colorbar": {
              "outlinewidth": 0,
              "ticks": ""
             }
            },
            "type": "scattergl"
           }
          ],
          "scattermap": [
           {
            "marker": {
             "colorbar": {
              "outlinewidth": 0,
              "ticks": ""
             }
            },
            "type": "scattermap"
           }
          ],
          "scattermapbox": [
           {
            "marker": {
             "colorbar": {
              "outlinewidth": 0,
              "ticks": ""
             }
            },
            "type": "scattermapbox"
           }
          ],
          "scatterpolar": [
           {
            "marker": {
             "colorbar": {
              "outlinewidth": 0,
              "ticks": ""
             }
            },
            "type": "scatterpolar"
           }
          ],
          "scatterpolargl": [
           {
            "marker": {
             "colorbar": {
              "outlinewidth": 0,
              "ticks": ""
             }
            },
            "type": "scatterpolargl"
           }
          ],
          "scatterternary": [
           {
            "marker": {
             "colorbar": {
              "outlinewidth": 0,
              "ticks": ""
             }
            },
            "type": "scatterternary"
           }
          ],
          "surface": [
           {
            "colorbar": {
             "outlinewidth": 0,
             "ticks": ""
            },
            "colorscale": [
             [
              0,
              "#0d0887"
             ],
             [
              0.1111111111111111,
              "#46039f"
             ],
             [
              0.2222222222222222,
              "#7201a8"
             ],
             [
              0.3333333333333333,
              "#9c179e"
             ],
             [
              0.4444444444444444,
              "#bd3786"
             ],
             [
              0.5555555555555556,
              "#d8576b"
             ],
             [
              0.6666666666666666,
              "#ed7953"
             ],
             [
              0.7777777777777778,
              "#fb9f3a"
             ],
             [
              0.8888888888888888,
              "#fdca26"
             ],
             [
              1,
              "#f0f921"
             ]
            ],
            "type": "surface"
           }
          ],
          "table": [
           {
            "cells": {
             "fill": {
              "color": "#EBF0F8"
             },
             "line": {
              "color": "white"
             }
            },
            "header": {
             "fill": {
              "color": "#C8D4E3"
             },
             "line": {
              "color": "white"
             }
            },
            "type": "table"
           }
          ]
         },
         "layout": {
          "annotationdefaults": {
           "arrowcolor": "#2a3f5f",
           "arrowhead": 0,
           "arrowwidth": 1
          },
          "autotypenumbers": "strict",
          "coloraxis": {
           "colorbar": {
            "outlinewidth": 0,
            "ticks": ""
           }
          },
          "colorscale": {
           "diverging": [
            [
             0,
             "#8e0152"
            ],
            [
             0.1,
             "#c51b7d"
            ],
            [
             0.2,
             "#de77ae"
            ],
            [
             0.3,
             "#f1b6da"
            ],
            [
             0.4,
             "#fde0ef"
            ],
            [
             0.5,
             "#f7f7f7"
            ],
            [
             0.6,
             "#e6f5d0"
            ],
            [
             0.7,
             "#b8e186"
            ],
            [
             0.8,
             "#7fbc41"
            ],
            [
             0.9,
             "#4d9221"
            ],
            [
             1,
             "#276419"
            ]
           ],
           "sequential": [
            [
             0,
             "#0d0887"
            ],
            [
             0.1111111111111111,
             "#46039f"
            ],
            [
             0.2222222222222222,
             "#7201a8"
            ],
            [
             0.3333333333333333,
             "#9c179e"
            ],
            [
             0.4444444444444444,
             "#bd3786"
            ],
            [
             0.5555555555555556,
             "#d8576b"
            ],
            [
             0.6666666666666666,
             "#ed7953"
            ],
            [
             0.7777777777777778,
             "#fb9f3a"
            ],
            [
             0.8888888888888888,
             "#fdca26"
            ],
            [
             1,
             "#f0f921"
            ]
           ],
           "sequentialminus": [
            [
             0,
             "#0d0887"
            ],
            [
             0.1111111111111111,
             "#46039f"
            ],
            [
             0.2222222222222222,
             "#7201a8"
            ],
            [
             0.3333333333333333,
             "#9c179e"
            ],
            [
             0.4444444444444444,
             "#bd3786"
            ],
            [
             0.5555555555555556,
             "#d8576b"
            ],
            [
             0.6666666666666666,
             "#ed7953"
            ],
            [
             0.7777777777777778,
             "#fb9f3a"
            ],
            [
             0.8888888888888888,
             "#fdca26"
            ],
            [
             1,
             "#f0f921"
            ]
           ]
          },
          "colorway": [
           "#636efa",
           "#EF553B",
           "#00cc96",
           "#ab63fa",
           "#FFA15A",
           "#19d3f3",
           "#FF6692",
           "#B6E880",
           "#FF97FF",
           "#FECB52"
          ],
          "font": {
           "color": "#2a3f5f"
          },
          "geo": {
           "bgcolor": "white",
           "lakecolor": "white",
           "landcolor": "#E5ECF6",
           "showlakes": true,
           "showland": true,
           "subunitcolor": "white"
          },
          "hoverlabel": {
           "align": "left"
          },
          "hovermode": "closest",
          "mapbox": {
           "style": "light"
          },
          "paper_bgcolor": "white",
          "plot_bgcolor": "#E5ECF6",
          "polar": {
           "angularaxis": {
            "gridcolor": "white",
            "linecolor": "white",
            "ticks": ""
           },
           "bgcolor": "#E5ECF6",
           "radialaxis": {
            "gridcolor": "white",
            "linecolor": "white",
            "ticks": ""
           }
          },
          "scene": {
           "xaxis": {
            "backgroundcolor": "#E5ECF6",
            "gridcolor": "white",
            "gridwidth": 2,
            "linecolor": "white",
            "showbackground": true,
            "ticks": "",
            "zerolinecolor": "white"
           },
           "yaxis": {
            "backgroundcolor": "#E5ECF6",
            "gridcolor": "white",
            "gridwidth": 2,
            "linecolor": "white",
            "showbackground": true,
            "ticks": "",
            "zerolinecolor": "white"
           },
           "zaxis": {
            "backgroundcolor": "#E5ECF6",
            "gridcolor": "white",
            "gridwidth": 2,
            "linecolor": "white",
            "showbackground": true,
            "ticks": "",
            "zerolinecolor": "white"
           }
          },
          "shapedefaults": {
           "line": {
            "color": "#2a3f5f"
           }
          },
          "ternary": {
           "aaxis": {
            "gridcolor": "white",
            "linecolor": "white",
            "ticks": ""
           },
           "baxis": {
            "gridcolor": "white",
            "linecolor": "white",
            "ticks": ""
           },
           "bgcolor": "#E5ECF6",
           "caxis": {
            "gridcolor": "white",
            "linecolor": "white",
            "ticks": ""
           }
          },
          "title": {
           "x": 0.05
          },
          "xaxis": {
           "automargin": true,
           "gridcolor": "white",
           "linecolor": "white",
           "ticks": "",
           "title": {
            "standoff": 15
           },
           "zerolinecolor": "white",
           "zerolinewidth": 2
          },
          "yaxis": {
           "automargin": true,
           "gridcolor": "white",
           "linecolor": "white",
           "ticks": "",
           "title": {
            "standoff": 15
           },
           "zerolinecolor": "white",
           "zerolinewidth": 2
          }
         }
        },
        "xaxis": {
         "anchor": "y",
         "domain": [
          0,
          1
         ],
         "title": {
          "text": "index"
         }
        },
        "yaxis": {
         "anchor": "x",
         "domain": [
          0,
          1
         ],
         "title": {
          "text": "value"
         }
        }
       }
      },
      "image/png": "[encoded data removed]"
     },
     "metadata": {},
     "output_type": "display_data"
    }
   ],
   "source": [
    "eh.Nx = 300\n",
    "eh.dt = 1200\n",
    "eh.materials('./eh_config/materials.ini')\n",
    "dia_promedio = eh.meanDay(epw_file=\"epw/Torreon.epw\",month='05')\n",
    "tsa_df = eh.Tsa(\n",
    "    meanDay_dataframe=dia_promedio,\n",
    "    solar_absortance=0.4,\n",
    "    surface_tilt=90, \n",
    "    surface_azimuth=180,\n",
    "    )\n",
    "\n",
    "sc = [\n",
    "    (\"EPS\", 0.1),\n",
    "    # (\"Acero\", 0.1),\n",
    "#    (\"brick\", 0.2),\n",
    "#    (\"concrete\", 0.1),\n",
    "]\n",
    "\n",
    "sc_df, ET = eh.solveCS(sc, tsa_df,Energia=True)\n",
    "resultado = tsa_df.join(sc_df, how=\"right\")\n",
    "\n",
    "solucion = pd.concat([resultado[['zenith', 'elevation', 'azimuth', 'equation_of_time', 'Tn', 'DeltaTn', 'Ta', 'Ig', 'Ib', 'Id']], resultado[[\"Is\", \"Tsa\", \"Ti\"]].add_suffix(\"_1\", axis=1)], axis=1)\n",
    "\n",
    "\n",
    "px.scatter(\n",
    "    data_frame=solucion,\n",
    "    x=solucion.index,\n",
    "    y=[\"Ta\",\"Tsa_1\",\"Ti_1\"]\n",
    ")"
   ]
  },
  {
   "cell_type": "code",
   "execution_count": null,
   "id": "5e56f77b-0347-47ee-91ee-c9fbfb382211",
   "metadata": {},
   "outputs": [],
   "source": []
  }
 ],
 "metadata": {
  "kernelspec": {
   "display_name": "Python 3 (ipykernel)",
   "language": "python",
   "name": "python3"
  },
  "language_info": {
   "codemirror_mode": {
    "name": "ipython",
    "version": 3
   },
   "file_extension": ".py",
   "mimetype": "text/x-python",
   "name": "python",
   "nbconvert_exporter": "python",
   "pygments_lexer": "ipython3",
   "version": "3.12.7"
  }
 },
 "nbformat": 4,
 "nbformat_minor": 5
}
