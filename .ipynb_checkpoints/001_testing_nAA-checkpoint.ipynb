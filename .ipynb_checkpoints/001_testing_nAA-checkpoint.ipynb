{
 "cells": [
  {
   "cell_type": "code",
   "execution_count": 1,
   "id": "667a0d0f-d4a0-4289-a0b3-9a0740729067",
   "metadata": {},
   "outputs": [],
   "source": [
    "import enerhabitat as eh\n",
    "import pandas as pd \n",
    "import plotly.express as px\n"
   ]
  },
  {
   "cell_type": "code",
   "execution_count": 2,
   "id": "017a51ed-f1e0-43f1-bead-22b07f49ebeb",
   "metadata": {},
   "outputs": [],
   "source": [
    "eh.Nx = 100\n",
    "eh.dt = 600\n",
    "eh.materials('./eh_config/materials.ini')\n",
    "dia_promedio = eh.meanDay(epw_file=\"epw/Torreon.epw\",month='05')\n",
    "tsa_df = eh.Tsa(\n",
    "    meanDay_dataframe=dia_promedio,\n",
    "    solar_absortance=0.4,\n",
    "    surface_tilt=90, \n",
    "    surface_azimuth=180,\n",
    "    )\n",
    "\n",
    "sc = [\n",
    "    (\"EPS\", 0.1),\n",
    "    # (\"Acero\", 0.1),\n",
    "#    (\"brick\", 0.2),\n",
    "#    (\"concrete\", 0.1),\n",
    "]\n",
    "\n"
   ]
  },
  {
   "cell_type": "code",
   "execution_count": 2,
   "id": "25ee02ed-df73-4e88-b8b6-e3f254422fd6",
   "metadata": {},
   "outputs": [],
   "source": [
    "# %time sc_df, ET = eh.solveCS(sc, tsa_df,Energia=True)"
   ]
  },
  {
   "cell_type": "code",
   "execution_count": 3,
   "id": "353f43c0-b1dd-47ab-bb8b-9349034fedbd",
   "metadata": {},
   "outputs": [
    {
     "data": {
      "application/vnd.plotly.v1+json": {
       "config": {
        "plotlyServerURL": "https://plot.ly"
       },
       "data": [
        {
         "hovertemplate": "variable=Ta<br>index=%{x}<br>value=%{y}<extra></extra>",
         "legendgroup": "Ta",
         "marker": {
          "color": "#636efa",
          "symbol": "circle"
         },
         "mode": "markers",
         "name": "Ta",
         "orientation": "v",
         "showlegend": true,
         "type": "scatter",
         "x": [
          "2025-05-15T00:00:00-06:00",
          "2025-05-15T00:10:00-06:00",
          "2025-05-15T00:20:00-06:00",
          "2025-05-15T00:30:00-06:00",
          "2025-05-15T00:40:00-06:00",
          "2025-05-15T00:50:00-06:00",
          "2025-05-15T01:00:00-06:00",
          "2025-05-15T01:10:00-06:00",
          "2025-05-15T01:20:00-06:00",
          "2025-05-15T01:30:00-06:00",
          "2025-05-15T01:40:00-06:00",
          "2025-05-15T01:50:00-06:00",
          "2025-05-15T02:00:00-06:00",
          "2025-05-15T02:10:00-06:00",
          "2025-05-15T02:20:00-06:00",
          "2025-05-15T02:30:00-06:00",
          "2025-05-15T02:40:00-06:00",
          "2025-05-15T02:50:00-06:00",
          "2025-05-15T03:00:00-06:00",
          "2025-05-15T03:10:00-06:00",
          "2025-05-15T03:20:00-06:00",
          "2025-05-15T03:30:00-06:00",
          "2025-05-15T03:40:00-06:00",
          "2025-05-15T03:50:00-06:00",
          "2025-05-15T04:00:00-06:00",
          "2025-05-15T04:10:00-06:00",
          "2025-05-15T04:20:00-06:00",
          "2025-05-15T04:30:00-06:00",
          "2025-05-15T04:40:00-06:00",
          "2025-05-15T04:50:00-06:00",
          "2025-05-15T05:00:00-06:00",
          "2025-05-15T05:10:00-06:00",
          "2025-05-15T05:20:00-06:00",
          "2025-05-15T05:30:00-06:00",
          "2025-05-15T05:40:00-06:00",
          "2025-05-15T05:50:00-06:00",
          "2025-05-15T06:00:00-06:00",
          "2025-05-15T06:10:00-06:00",
          "2025-05-15T06:20:00-06:00",
          "2025-05-15T06:30:00-06:00",
          "2025-05-15T06:40:00-06:00",
          "2025-05-15T06:50:00-06:00",
          "2025-05-15T07:00:00-06:00",
          "2025-05-15T07:10:00-06:00",
          "2025-05-15T07:20:00-06:00",
          "2025-05-15T07:30:00-06:00",
          "2025-05-15T07:40:00-06:00",
          "2025-05-15T07:50:00-06:00",
          "2025-05-15T08:00:00-06:00",
          "2025-05-15T08:10:00-06:00",
          "2025-05-15T08:20:00-06:00",
          "2025-05-15T08:30:00-06:00",
          "2025-05-15T08:40:00-06:00",
          "2025-05-15T08:50:00-06:00",
          "2025-05-15T09:00:00-06:00",
          "2025-05-15T09:10:00-06:00",
          "2025-05-15T09:20:00-06:00",
          "2025-05-15T09:30:00-06:00",
          "2025-05-15T09:40:00-06:00",
          "2025-05-15T09:50:00-06:00",
          "2025-05-15T10:00:00-06:00",
          "2025-05-15T10:10:00-06:00",
          "2025-05-15T10:20:00-06:00",
          "2025-05-15T10:30:00-06:00",
          "2025-05-15T10:40:00-06:00",
          "2025-05-15T10:50:00-06:00",
          "2025-05-15T11:00:00-06:00",
          "2025-05-15T11:10:00-06:00",
          "2025-05-15T11:20:00-06:00",
          "2025-05-15T11:30:00-06:00",
          "2025-05-15T11:40:00-06:00",
          "2025-05-15T11:50:00-06:00",
          "2025-05-15T12:00:00-06:00",
          "2025-05-15T12:10:00-06:00",
          "2025-05-15T12:20:00-06:00",
          "2025-05-15T12:30:00-06:00",
          "2025-05-15T12:40:00-06:00",
          "2025-05-15T12:50:00-06:00",
          "2025-05-15T13:00:00-06:00",
          "2025-05-15T13:10:00-06:00",
          "2025-05-15T13:20:00-06:00",
          "2025-05-15T13:30:00-06:00",
          "2025-05-15T13:40:00-06:00",
          "2025-05-15T13:50:00-06:00",
          "2025-05-15T14:00:00-06:00",
          "2025-05-15T14:10:00-06:00",
          "2025-05-15T14:20:00-06:00",
          "2025-05-15T14:30:00-06:00",
          "2025-05-15T14:40:00-06:00",
          "2025-05-15T14:50:00-06:00",
          "2025-05-15T15:00:00-06:00",
          "2025-05-15T15:10:00-06:00",
          "2025-05-15T15:20:00-06:00",
          "2025-05-15T15:30:00-06:00",
          "2025-05-15T15:40:00-06:00",
          "2025-05-15T15:50:00-06:00",
          "2025-05-15T16:00:00-06:00",
          "2025-05-15T16:10:00-06:00",
          "2025-05-15T16:20:00-06:00",
          "2025-05-15T16:30:00-06:00",
          "2025-05-15T16:40:00-06:00",
          "2025-05-15T16:50:00-06:00",
          "2025-05-15T17:00:00-06:00",
          "2025-05-15T17:10:00-06:00",
          "2025-05-15T17:20:00-06:00",
          "2025-05-15T17:30:00-06:00",
          "2025-05-15T17:40:00-06:00",
          "2025-05-15T17:50:00-06:00",
          "2025-05-15T18:00:00-06:00",
          "2025-05-15T18:10:00-06:00",
          "2025-05-15T18:20:00-06:00",
          "2025-05-15T18:30:00-06:00",
          "2025-05-15T18:40:00-06:00",
          "2025-05-15T18:50:00-06:00",
          "2025-05-15T19:00:00-06:00",
          "2025-05-15T19:10:00-06:00",
          "2025-05-15T19:20:00-06:00",
          "2025-05-15T19:30:00-06:00",
          "2025-05-15T19:40:00-06:00",
          "2025-05-15T19:50:00-06:00",
          "2025-05-15T20:00:00-06:00",
          "2025-05-15T20:10:00-06:00",
          "2025-05-15T20:20:00-06:00",
          "2025-05-15T20:30:00-06:00",
          "2025-05-15T20:40:00-06:00",
          "2025-05-15T20:50:00-06:00",
          "2025-05-15T21:00:00-06:00",
          "2025-05-15T21:10:00-06:00",
          "2025-05-15T21:20:00-06:00",
          "2025-05-15T21:30:00-06:00",
          "2025-05-15T21:40:00-06:00",
          "2025-05-15T21:50:00-06:00",
          "2025-05-15T22:00:00-06:00",
          "2025-05-15T22:10:00-06:00",
          "2025-05-15T22:20:00-06:00",
          "2025-05-15T22:30:00-06:00",
          "2025-05-15T22:40:00-06:00",
          "2025-05-15T22:50:00-06:00",
          "2025-05-15T23:00:00-06:00",
          "2025-05-15T23:10:00-06:00",
          "2025-05-15T23:20:00-06:00",
          "2025-05-15T23:30:00-06:00",
          "2025-05-15T23:40:00-06:00",
          "2025-05-15T23:50:00-06:00"
         ],
         "xaxis": "x",
         "y": {
          "bdata": "GGgurfM3OkCDHlAGwvw5QE3OZVVFwjlAgQyp7I6IOUCGl5rjr085QE2E8hG5FzlAVU+jCrvgOECiS/EWxqo4QNDjnzHqdThA8ho2AjdCOEABtFvYuw84QFhfUKeH3jdAEkZ+AamuN0DgQikULoA3QKEPPKMkUzdA9qU0BZonN0DxBzEfm/02QFecHWE01TZA/j8GwnGuNkB4I4u8Xok2QNWBeksGZjZAFDKQ5nJENkDaCVx/riQ2QIT8T37CBjZAutX2v7fqNUDeYlSSltA1QDvSb7JmuDVAcQIJSi+iNUDnb3nt9o01QARhwZnDezVAA+XBspprNUDCK6QBgV01QJyvbrN6UTVAwpzIV4tHNUDY0+vftT81QL3XxZ38OTVAquhHQ2E2NUChgObh5DQ1QHH1GkUGNzVAu8x2ztc/NUBsOrwKaU81QN0B/TqrZTVARte7SYmCNUBZCOXe56U1QEcptXmlzzVAfz11kJr/NUCaTO61mTU2QPnpcMRvcTZAqOxHDuSyNkCBc2iTuPk2QKxaLDyqRTdAh4HfGHGWN0AjruOlwOs3QAyDKhRIRThAfuDAlbKiOECtLyOupwM5QByBDobLZzlAGxl/Qr/OOUA6A4peITg6QNGQvAeOozpAGkOqfJ8QO0BKkE9t7n47QAY37lwS7jtA2G0GBaJdPECiLg+5M808QNcoj8pdPD1Ax4k37baqPUCiyKGa1hc+QMP7UXVVgz5Ah+6fqs3sPkBMOSpT21M/QID/d9EcuD9ALNg3l5kMQEBSmqU5YTtAQGoqWgA5aEBAtmlbcfaSQEAGXJwQcbtAQN5IVoaC4UBAMIVawwYFQUCOfjoj3CVBQCatJYzjQ0FAMT1fjABfQUALiC91GXdBQIrXN3MXjEFAcGgRpOadQUAPMSMpdqxBQL+UnDe4t0FAaOGFJaK/QUAJN9pzLMRBQGjEe5taxUFA8LfJ7qbEQUDwGNzB48JBQFf8UJoRwEFAvNwGTjG8QUDOQ90CRLdBQCzCXS5LsUFAfU9NlUiqQUCGMyZLPqJBQO6ferEumUFAVClAdxyPQUAoVQSYCoRBQJZ4Clv8d0FAXCtTUvVqQUBQmI1Z+VxBQJ/78pQMTkFAcKUMcDM+QUD13WScci1BQBIOIxDPG0FADpaTBE4JQUCrwZv09PVAQPhOGpvJ4UBA2QI18dHMQEAIzJMsFLdAQIb6ib2WoEBAFhcuTWCJQEAm62C7d3FAQNxOxBzkWEBAhleiuKw/QEBshcUG2SVAQIWUQq1wC0BAMC9p/PbgP0BgE9jqAqo/QLAKI2wVcj9A7ql5ED85P0D2JQKtkP8+QIUn3VYbxT5AgKwWXvCJPkBGdoVIIU4+QKyJmsy/ET5APEoizN3UPUA6vvhOjZc9QCaNsn3gWT1AXU08nOkbPUDAuHEEu908QGJiriBnnzxAQolZZgBhPECppW5QmSI8QIRPBFpE5DtAvBzT+BOmO0BvFr6XGmg7QJhjXpFqKjtApcaTKhbtOkAPihuNL7A6QC52L8LIczpA",
          "dtype": "f8"
         },
         "yaxis": "y"
        },
        {
         "hovertemplate": "variable=Tsa_1<br>index=%{x}<br>value=%{y}<extra></extra>",
         "legendgroup": "Tsa_1",
         "marker": {
          "color": "#EF553B",
          "symbol": "circle"
         },
         "mode": "markers",
         "name": "Tsa_1",
         "orientation": "v",
         "showlegend": true,
         "type": "scatter",
         "x": [
          "2025-05-15T00:00:00-06:00",
          "2025-05-15T00:10:00-06:00",
          "2025-05-15T00:20:00-06:00",
          "2025-05-15T00:30:00-06:00",
          "2025-05-15T00:40:00-06:00",
          "2025-05-15T00:50:00-06:00",
          "2025-05-15T01:00:00-06:00",
          "2025-05-15T01:10:00-06:00",
          "2025-05-15T01:20:00-06:00",
          "2025-05-15T01:30:00-06:00",
          "2025-05-15T01:40:00-06:00",
          "2025-05-15T01:50:00-06:00",
          "2025-05-15T02:00:00-06:00",
          "2025-05-15T02:10:00-06:00",
          "2025-05-15T02:20:00-06:00",
          "2025-05-15T02:30:00-06:00",
          "2025-05-15T02:40:00-06:00",
          "2025-05-15T02:50:00-06:00",
          "2025-05-15T03:00:00-06:00",
          "2025-05-15T03:10:00-06:00",
          "2025-05-15T03:20:00-06:00",
          "2025-05-15T03:30:00-06:00",
          "2025-05-15T03:40:00-06:00",
          "2025-05-15T03:50:00-06:00",
          "2025-05-15T04:00:00-06:00",
          "2025-05-15T04:10:00-06:00",
          "2025-05-15T04:20:00-06:00",
          "2025-05-15T04:30:00-06:00",
          "2025-05-15T04:40:00-06:00",
          "2025-05-15T04:50:00-06:00",
          "2025-05-15T05:00:00-06:00",
          "2025-05-15T05:10:00-06:00",
          "2025-05-15T05:20:00-06:00",
          "2025-05-15T05:30:00-06:00",
          "2025-05-15T05:40:00-06:00",
          "2025-05-15T05:50:00-06:00",
          "2025-05-15T06:00:00-06:00",
          "2025-05-15T06:10:00-06:00",
          "2025-05-15T06:20:00-06:00",
          "2025-05-15T06:30:00-06:00",
          "2025-05-15T06:40:00-06:00",
          "2025-05-15T06:50:00-06:00",
          "2025-05-15T07:00:00-06:00",
          "2025-05-15T07:10:00-06:00",
          "2025-05-15T07:20:00-06:00",
          "2025-05-15T07:30:00-06:00",
          "2025-05-15T07:40:00-06:00",
          "2025-05-15T07:50:00-06:00",
          "2025-05-15T08:00:00-06:00",
          "2025-05-15T08:10:00-06:00",
          "2025-05-15T08:20:00-06:00",
          "2025-05-15T08:30:00-06:00",
          "2025-05-15T08:40:00-06:00",
          "2025-05-15T08:50:00-06:00",
          "2025-05-15T09:00:00-06:00",
          "2025-05-15T09:10:00-06:00",
          "2025-05-15T09:20:00-06:00",
          "2025-05-15T09:30:00-06:00",
          "2025-05-15T09:40:00-06:00",
          "2025-05-15T09:50:00-06:00",
          "2025-05-15T10:00:00-06:00",
          "2025-05-15T10:10:00-06:00",
          "2025-05-15T10:20:00-06:00",
          "2025-05-15T10:30:00-06:00",
          "2025-05-15T10:40:00-06:00",
          "2025-05-15T10:50:00-06:00",
          "2025-05-15T11:00:00-06:00",
          "2025-05-15T11:10:00-06:00",
          "2025-05-15T11:20:00-06:00",
          "2025-05-15T11:30:00-06:00",
          "2025-05-15T11:40:00-06:00",
          "2025-05-15T11:50:00-06:00",
          "2025-05-15T12:00:00-06:00",
          "2025-05-15T12:10:00-06:00",
          "2025-05-15T12:20:00-06:00",
          "2025-05-15T12:30:00-06:00",
          "2025-05-15T12:40:00-06:00",
          "2025-05-15T12:50:00-06:00",
          "2025-05-15T13:00:00-06:00",
          "2025-05-15T13:10:00-06:00",
          "2025-05-15T13:20:00-06:00",
          "2025-05-15T13:30:00-06:00",
          "2025-05-15T13:40:00-06:00",
          "2025-05-15T13:50:00-06:00",
          "2025-05-15T14:00:00-06:00",
          "2025-05-15T14:10:00-06:00",
          "2025-05-15T14:20:00-06:00",
          "2025-05-15T14:30:00-06:00",
          "2025-05-15T14:40:00-06:00",
          "2025-05-15T14:50:00-06:00",
          "2025-05-15T15:00:00-06:00",
          "2025-05-15T15:10:00-06:00",
          "2025-05-15T15:20:00-06:00",
          "2025-05-15T15:30:00-06:00",
          "2025-05-15T15:40:00-06:00",
          "2025-05-15T15:50:00-06:00",
          "2025-05-15T16:00:00-06:00",
          "2025-05-15T16:10:00-06:00",
          "2025-05-15T16:20:00-06:00",
          "2025-05-15T16:30:00-06:00",
          "2025-05-15T16:40:00-06:00",
          "2025-05-15T16:50:00-06:00",
          "2025-05-15T17:00:00-06:00",
          "2025-05-15T17:10:00-06:00",
          "2025-05-15T17:20:00-06:00",
          "2025-05-15T17:30:00-06:00",
          "2025-05-15T17:40:00-06:00",
          "2025-05-15T17:50:00-06:00",
          "2025-05-15T18:00:00-06:00",
          "2025-05-15T18:10:00-06:00",
          "2025-05-15T18:20:00-06:00",
          "2025-05-15T18:30:00-06:00",
          "2025-05-15T18:40:00-06:00",
          "2025-05-15T18:50:00-06:00",
          "2025-05-15T19:00:00-06:00",
          "2025-05-15T19:10:00-06:00",
          "2025-05-15T19:20:00-06:00",
          "2025-05-15T19:30:00-06:00",
          "2025-05-15T19:40:00-06:00",
          "2025-05-15T19:50:00-06:00",
          "2025-05-15T20:00:00-06:00",
          "2025-05-15T20:10:00-06:00",
          "2025-05-15T20:20:00-06:00",
          "2025-05-15T20:30:00-06:00",
          "2025-05-15T20:40:00-06:00",
          "2025-05-15T20:50:00-06:00",
          "2025-05-15T21:00:00-06:00",
          "2025-05-15T21:10:00-06:00",
          "2025-05-15T21:20:00-06:00",
          "2025-05-15T21:30:00-06:00",
          "2025-05-15T21:40:00-06:00",
          "2025-05-15T21:50:00-06:00",
          "2025-05-15T22:00:00-06:00",
          "2025-05-15T22:10:00-06:00",
          "2025-05-15T22:20:00-06:00",
          "2025-05-15T22:30:00-06:00",
          "2025-05-15T22:40:00-06:00",
          "2025-05-15T22:50:00-06:00",
          "2025-05-15T23:00:00-06:00",
          "2025-05-15T23:10:00-06:00",
          "2025-05-15T23:20:00-06:00",
          "2025-05-15T23:30:00-06:00",
          "2025-05-15T23:40:00-06:00",
          "2025-05-15T23:50:00-06:00"
         ],
         "xaxis": "x",
         "y": {
          "bdata": "GGgurfM3OkCDHlAGwvw5QE3OZVVFwjlAgQyp7I6IOUCGl5rjr085QE2E8hG5FzlAVU+jCrvgOECiS/EWxqo4QNDjnzHqdThA8ho2AjdCOEABtFvYuw84QFhfUKeH3jdAEkZ+AamuN0DgQikULoA3QKEPPKMkUzdA9qU0BZonN0DxBzEfm/02QFecHWE01TZA/j8GwnGuNkB4I4u8Xok2QNWBeksGZjZAFDKQ5nJENkDaCVx/riQ2QIT8T37CBjZAutX2v7fqNUDeYlSSltA1QDvSb7JmuDVAcQIJSi+iNUDnb3nt9o01QARhwZnDezVAA+XBspprNUDGlvnsiGY1QKSFGYqKYzVAzt3IGaNiNUDof0GN1WM1QNLucDYkZzVAw2pIx5BsNUBX7fPA9pY1QMRMNX/6xDVAqw6eY675NUD5ZvD6ITU2QAcZPoZGdzZADdkJ8AbANkBntv9wpiI3QJyDnPekizdAGkQp+tr6N0B8/24LG3A4QCJJvgUy6zhAF/hhO+drOUA8z/oTLe85QLIGNxCQdzpA2H1iQMgEO0C/+t4giZY7QPMfnuKBLDxAsM2st13GPECT46tilVM9QLb7M8374z1AaFpBHDJ3PkA7C+nK1gw/QIZfuAaGpD9AW1mbQS8zQEBZQ4/5NJ5AQLa4g3jNCEFAJqnw/p5yQUDiOcyfT9tBQArMeYuFQkJAO+3gWuenQkARYK0SIgZDQHh2YQhdYUNAZZ0iY1S5Q0CruZ9Hxg1EQGdoVRFzXkRA6k21iR2rREDgOE/lTelEQJ/6ciH5IkVAkBQOp/FXRUAaHxkiDYhFQCQpaagks0VA4NXc3RTZRUDsvlecevJFQBYSxlWOBkZAF1ho+EEVRkD2F3Ndix5GQLsjL1ZkIkZAxXfhtcogRkA8HjPFvQtGQO070ZrK8UVAXeRcLxHTRUCkdQv1tK9FQAKK4YTkh0VA1B4eYUVdRUDTrpdu0idFQH8ye41D8ERA5dLS4bm2REBQUeLuVntEQABQhdASUERAvAFpL2YzREBhfRaaVgxEQGWBP7VB5ENAaKLZLyq7Q0DYZXIFE5FDQOIgTX3/ZUNARGtqKfM5Q0CC1eTdgA1DQBs2isYd4EJANt3jTs6xQkAFE3wol4JCQGxAekl9UkJAs8Uq64UhQkCXQKPPMeVBQCsdkmoLqEFAUyAdtRhqQUDJOOzkXytBQI62Umrn60BAZSJn7rWrQEDoyWVsFI5AQBABld3Hb0BALd0+iddQQECG3i3nSjFAQBLBdp0pEUBAMC9p/PbgP0BgE9jqAqo/QLAKI2wVcj9A7ql5ED85P0D2JQKtkP8+QIUn3VYbxT5AgKwWXvCJPkBGdoVIIU4+QKyJmsy/ET5APEoizN3UPUA6vvhOjZc9QCaNsn3gWT1AXU08nOkbPUDAuHEEu908QGJiriBnnzxAQolZZgBhPECppW5QmSI8QIRPBFpE5DtAvBzT+BOmO0BvFr6XGmg7QJhjXpFqKjtApcaTKhbtOkAPihuNL7A6QC52L8LIczpA",
          "dtype": "f8"
         },
         "yaxis": "y"
        },
        {
         "hovertemplate": "variable=Ti_1<br>index=%{x}<br>value=%{y}<extra></extra>",
         "legendgroup": "Ti_1",
         "marker": {
          "color": "#00cc96",
          "symbol": "circle"
         },
         "mode": "markers",
         "name": "Ti_1",
         "orientation": "v",
         "showlegend": true,
         "type": "scatter",
         "x": [
          "2025-05-15T00:00:00-06:00",
          "2025-05-15T00:10:00-06:00",
          "2025-05-15T00:20:00-06:00",
          "2025-05-15T00:30:00-06:00",
          "2025-05-15T00:40:00-06:00",
          "2025-05-15T00:50:00-06:00",
          "2025-05-15T01:00:00-06:00",
          "2025-05-15T01:10:00-06:00",
          "2025-05-15T01:20:00-06:00",
          "2025-05-15T01:30:00-06:00",
          "2025-05-15T01:40:00-06:00",
          "2025-05-15T01:50:00-06:00",
          "2025-05-15T02:00:00-06:00",
          "2025-05-15T02:10:00-06:00",
          "2025-05-15T02:20:00-06:00",
          "2025-05-15T02:30:00-06:00",
          "2025-05-15T02:40:00-06:00",
          "2025-05-15T02:50:00-06:00",
          "2025-05-15T03:00:00-06:00",
          "2025-05-15T03:10:00-06:00",
          "2025-05-15T03:20:00-06:00",
          "2025-05-15T03:30:00-06:00",
          "2025-05-15T03:40:00-06:00",
          "2025-05-15T03:50:00-06:00",
          "2025-05-15T04:00:00-06:00",
          "2025-05-15T04:10:00-06:00",
          "2025-05-15T04:20:00-06:00",
          "2025-05-15T04:30:00-06:00",
          "2025-05-15T04:40:00-06:00",
          "2025-05-15T04:50:00-06:00",
          "2025-05-15T05:00:00-06:00",
          "2025-05-15T05:10:00-06:00",
          "2025-05-15T05:20:00-06:00",
          "2025-05-15T05:30:00-06:00",
          "2025-05-15T05:40:00-06:00",
          "2025-05-15T05:50:00-06:00",
          "2025-05-15T06:00:00-06:00",
          "2025-05-15T06:10:00-06:00",
          "2025-05-15T06:20:00-06:00",
          "2025-05-15T06:30:00-06:00",
          "2025-05-15T06:40:00-06:00",
          "2025-05-15T06:50:00-06:00",
          "2025-05-15T07:00:00-06:00",
          "2025-05-15T07:10:00-06:00",
          "2025-05-15T07:20:00-06:00",
          "2025-05-15T07:30:00-06:00",
          "2025-05-15T07:40:00-06:00",
          "2025-05-15T07:50:00-06:00",
          "2025-05-15T08:00:00-06:00",
          "2025-05-15T08:10:00-06:00",
          "2025-05-15T08:20:00-06:00",
          "2025-05-15T08:30:00-06:00",
          "2025-05-15T08:40:00-06:00",
          "2025-05-15T08:50:00-06:00",
          "2025-05-15T09:00:00-06:00",
          "2025-05-15T09:10:00-06:00",
          "2025-05-15T09:20:00-06:00",
          "2025-05-15T09:30:00-06:00",
          "2025-05-15T09:40:00-06:00",
          "2025-05-15T09:50:00-06:00",
          "2025-05-15T10:00:00-06:00",
          "2025-05-15T10:10:00-06:00",
          "2025-05-15T10:20:00-06:00",
          "2025-05-15T10:30:00-06:00",
          "2025-05-15T10:40:00-06:00",
          "2025-05-15T10:50:00-06:00",
          "2025-05-15T11:00:00-06:00",
          "2025-05-15T11:10:00-06:00",
          "2025-05-15T11:20:00-06:00",
          "2025-05-15T11:30:00-06:00",
          "2025-05-15T11:40:00-06:00",
          "2025-05-15T11:50:00-06:00",
          "2025-05-15T12:00:00-06:00",
          "2025-05-15T12:10:00-06:00",
          "2025-05-15T12:20:00-06:00",
          "2025-05-15T12:30:00-06:00",
          "2025-05-15T12:40:00-06:00",
          "2025-05-15T12:50:00-06:00",
          "2025-05-15T13:00:00-06:00",
          "2025-05-15T13:10:00-06:00",
          "2025-05-15T13:20:00-06:00",
          "2025-05-15T13:30:00-06:00",
          "2025-05-15T13:40:00-06:00",
          "2025-05-15T13:50:00-06:00",
          "2025-05-15T14:00:00-06:00",
          "2025-05-15T14:10:00-06:00",
          "2025-05-15T14:20:00-06:00",
          "2025-05-15T14:30:00-06:00",
          "2025-05-15T14:40:00-06:00",
          "2025-05-15T14:50:00-06:00",
          "2025-05-15T15:00:00-06:00",
          "2025-05-15T15:10:00-06:00",
          "2025-05-15T15:20:00-06:00",
          "2025-05-15T15:30:00-06:00",
          "2025-05-15T15:40:00-06:00",
          "2025-05-15T15:50:00-06:00",
          "2025-05-15T16:00:00-06:00",
          "2025-05-15T16:10:00-06:00",
          "2025-05-15T16:20:00-06:00",
          "2025-05-15T16:30:00-06:00",
          "2025-05-15T16:40:00-06:00",
          "2025-05-15T16:50:00-06:00",
          "2025-05-15T17:00:00-06:00",
          "2025-05-15T17:10:00-06:00",
          "2025-05-15T17:20:00-06:00",
          "2025-05-15T17:30:00-06:00",
          "2025-05-15T17:40:00-06:00",
          "2025-05-15T17:50:00-06:00",
          "2025-05-15T18:00:00-06:00",
          "2025-05-15T18:10:00-06:00",
          "2025-05-15T18:20:00-06:00",
          "2025-05-15T18:30:00-06:00",
          "2025-05-15T18:40:00-06:00",
          "2025-05-15T18:50:00-06:00",
          "2025-05-15T19:00:00-06:00",
          "2025-05-15T19:10:00-06:00",
          "2025-05-15T19:20:00-06:00",
          "2025-05-15T19:30:00-06:00",
          "2025-05-15T19:40:00-06:00",
          "2025-05-15T19:50:00-06:00",
          "2025-05-15T20:00:00-06:00",
          "2025-05-15T20:10:00-06:00",
          "2025-05-15T20:20:00-06:00",
          "2025-05-15T20:30:00-06:00",
          "2025-05-15T20:40:00-06:00",
          "2025-05-15T20:50:00-06:00",
          "2025-05-15T21:00:00-06:00",
          "2025-05-15T21:10:00-06:00",
          "2025-05-15T21:20:00-06:00",
          "2025-05-15T21:30:00-06:00",
          "2025-05-15T21:40:00-06:00",
          "2025-05-15T21:50:00-06:00",
          "2025-05-15T22:00:00-06:00",
          "2025-05-15T22:10:00-06:00",
          "2025-05-15T22:20:00-06:00",
          "2025-05-15T22:30:00-06:00",
          "2025-05-15T22:40:00-06:00",
          "2025-05-15T22:50:00-06:00",
          "2025-05-15T23:00:00-06:00",
          "2025-05-15T23:10:00-06:00",
          "2025-05-15T23:20:00-06:00",
          "2025-05-15T23:30:00-06:00",
          "2025-05-15T23:40:00-06:00",
          "2025-05-15T23:50:00-06:00"
         ],
         "xaxis": "x",
         "y": {
          "bdata": "yt6MchBLO0C0dYxw2hM7QMXw0mT33DpAzT62sm+mOkAJoNMWUHA6QHeOPy2qOjpAphHWJ5MFOkBB4ZnYIdE5QAE0//BsnTlAs6IF2olqOUAMsAsrjDg5QIPRA5iFBzlAaBr6JYbXOEDJ6gx9nKg4QA2dnDzWejhAXFwFQ0BOOECMi1jj5iI4QDq5HQnW+DdAmLjpTBnQN0DOPYb9u6g3QO5pQiHJgjdAx5lmckteN0BYjwVZTTs3QNaZsuPYGTdAjeMTwPf5NkDdiN0zs9s2QJWDeRYUvzZAl7FyyyKkNkCi8p4954o2QPIy99poczZAPVEHka5dNkD0k6E9nUo2QJL51CSrOjZAxXtFd9stNkBJyHs3AyQ2QHa4gDbvHDZAh1suOnEYNkDjdIl4vRk2QHYzgcSLIjZA+NwIrz4zNkA6UuhptUs2QPD8wrasazZApnTg5t2SNkDwIv/L48I2QGiJlXhy/DZApDs/xkw/N0Dbf+jN1oo3QFOrQhBm3jdAFE8TdFw5OEBPh9BX6Jo4QHhDEZZqAjlA+xUU0nRvOUByO77hsOE5QNGXdDTSWDpAeiJqaI/UOkAKGAHfEFM7QNeLnDVD0ztAqhKkgN5UPED7ANhk6tc8QGxQic55XD1AVnpvXnnmPUBcl/xGqXk+QI3Q+lSmFj9AwmHjUiW8P0DRTYwvITRAQLu5SVCLjEBAUqGaKHPmQEAzv+OVmUBBQIQ8cLQHmkFAPxbRvBXyQUCPORLSSEhCQD/oL509nEJAxZ8loJ7tQkDXJjmWIztDQI9qYokGhENA/sgk5wjIQ0A4XnCVJQdEQCD7kY5lQURAolP8eNB2RECVih/ttaZEQJ7nj4W60ERAKTJwqNz0REBebeL+PRNFQAH9ub0FLEVAhSna3FY/RUAqbsJQ9UtFQJaEYYBXUUVAa+lZZ6pPRUAj7/aFYkdFQJBdHy0AOUVAxXprQB8lRUAOzuvFlgtFQJiST/mc7ERAjlakRMDIREBStXdtpKBEQEPgmmuYdkRAmDsCBotNREBotOK50iVEQJr3GzUB/0NA0QUw6qrYQ0DLUQymfrJDQGW5/Hw+jENA1ELwC7plQ0CR9Hc32T5DQNOQP8iFF0NANCsbuqnvQkAYslpAMsdCQFwwqgERnkJA3NKd7Tt0QkAudJJ+qUhCQK7bF1LTGkJA7aKGvbrqQUC8WgkLmLhBQAX2MtKthEFAr36YVTlPQUBXO65M0xtBQG/4lMhd7EBAhnoY7PPAQEC8StA9+JhAQNineTaqc0BA6o9ksFpQQECcSh9hBS9AQEnQp9N9D0BAaS7NutHiP0DiWCASyKg/QBmO22AzcD9A9c+6pIs4P0A4+dXvaQE/QNQsCRODyj5A3O6EJKKTPkAXmF21o1w+QPcr3tlxJT5ApNRz9gDuPUDniMs2TbY9QDFgZJNYfj1AFDy0SylGPUDF+Nu9yA09QAFNGohC1TxAMF5h46OcPEDsGnop+2M8QGNi2ntXKzxAdvuugsjyO0BTe5M9Xro7QE5cDOEogjtA",
          "dtype": "f8"
         },
         "yaxis": "y"
        }
       ],
       "layout": {
        "legend": {
         "title": {
          "text": "variable"
         },
         "tracegroupgap": 0
        },
        "margin": {
         "t": 60
        },
        "template": {
         "data": {
          "bar": [
           {
            "error_x": {
             "color": "#2a3f5f"
            },
            "error_y": {
             "color": "#2a3f5f"
            },
            "marker": {
             "line": {
              "color": "#E5ECF6",
              "width": 0.5
             },
             "pattern": {
              "fillmode": "overlay",
              "size": 10,
              "solidity": 0.2
             }
            },
            "type": "bar"
           }
          ],
          "barpolar": [
           {
            "marker": {
             "line": {
              "color": "#E5ECF6",
              "width": 0.5
             },
             "pattern": {
              "fillmode": "overlay",
              "size": 10,
              "solidity": 0.2
             }
            },
            "type": "barpolar"
           }
          ],
          "carpet": [
           {
            "aaxis": {
             "endlinecolor": "#2a3f5f",
             "gridcolor": "white",
             "linecolor": "white",
             "minorgridcolor": "white",
             "startlinecolor": "#2a3f5f"
            },
            "baxis": {
             "endlinecolor": "#2a3f5f",
             "gridcolor": "white",
             "linecolor": "white",
             "minorgridcolor": "white",
             "startlinecolor": "#2a3f5f"
            },
            "type": "carpet"
           }
          ],
          "choropleth": [
           {
            "colorbar": {
             "outlinewidth": 0,
             "ticks": ""
            },
            "type": "choropleth"
           }
          ],
          "contour": [
           {
            "colorbar": {
             "outlinewidth": 0,
             "ticks": ""
            },
            "colorscale": [
             [
              0,
              "#0d0887"
             ],
             [
              0.1111111111111111,
              "#46039f"
             ],
             [
              0.2222222222222222,
              "#7201a8"
             ],
             [
              0.3333333333333333,
              "#9c179e"
             ],
             [
              0.4444444444444444,
              "#bd3786"
             ],
             [
              0.5555555555555556,
              "#d8576b"
             ],
             [
              0.6666666666666666,
              "#ed7953"
             ],
             [
              0.7777777777777778,
              "#fb9f3a"
             ],
             [
              0.8888888888888888,
              "#fdca26"
             ],
             [
              1,
              "#f0f921"
             ]
            ],
            "type": "contour"
           }
          ],
          "contourcarpet": [
           {
            "colorbar": {
             "outlinewidth": 0,
             "ticks": ""
            },
            "type": "contourcarpet"
           }
          ],
          "heatmap": [
           {
            "colorbar": {
             "outlinewidth": 0,
             "ticks": ""
            },
            "colorscale": [
             [
              0,
              "#0d0887"
             ],
             [
              0.1111111111111111,
              "#46039f"
             ],
             [
              0.2222222222222222,
              "#7201a8"
             ],
             [
              0.3333333333333333,
              "#9c179e"
             ],
             [
              0.4444444444444444,
              "#bd3786"
             ],
             [
              0.5555555555555556,
              "#d8576b"
             ],
             [
              0.6666666666666666,
              "#ed7953"
             ],
             [
              0.7777777777777778,
              "#fb9f3a"
             ],
             [
              0.8888888888888888,
              "#fdca26"
             ],
             [
              1,
              "#f0f921"
             ]
            ],
            "type": "heatmap"
           }
          ],
          "histogram": [
           {
            "marker": {
             "pattern": {
              "fillmode": "overlay",
              "size": 10,
              "solidity": 0.2
             }
            },
            "type": "histogram"
           }
          ],
          "histogram2d": [
           {
            "colorbar": {
             "outlinewidth": 0,
             "ticks": ""
            },
            "colorscale": [
             [
              0,
              "#0d0887"
             ],
             [
              0.1111111111111111,
              "#46039f"
             ],
             [
              0.2222222222222222,
              "#7201a8"
             ],
             [
              0.3333333333333333,
              "#9c179e"
             ],
             [
              0.4444444444444444,
              "#bd3786"
             ],
             [
              0.5555555555555556,
              "#d8576b"
             ],
             [
              0.6666666666666666,
              "#ed7953"
             ],
             [
              0.7777777777777778,
              "#fb9f3a"
             ],
             [
              0.8888888888888888,
              "#fdca26"
             ],
             [
              1,
              "#f0f921"
             ]
            ],
            "type": "histogram2d"
           }
          ],
          "histogram2dcontour": [
           {
            "colorbar": {
             "outlinewidth": 0,
             "ticks": ""
            },
            "colorscale": [
             [
              0,
              "#0d0887"
             ],
             [
              0.1111111111111111,
              "#46039f"
             ],
             [
              0.2222222222222222,
              "#7201a8"
             ],
             [
              0.3333333333333333,
              "#9c179e"
             ],
             [
              0.4444444444444444,
              "#bd3786"
             ],
             [
              0.5555555555555556,
              "#d8576b"
             ],
             [
              0.6666666666666666,
              "#ed7953"
             ],
             [
              0.7777777777777778,
              "#fb9f3a"
             ],
             [
              0.8888888888888888,
              "#fdca26"
             ],
             [
              1,
              "#f0f921"
             ]
            ],
            "type": "histogram2dcontour"
           }
          ],
          "mesh3d": [
           {
            "colorbar": {
             "outlinewidth": 0,
             "ticks": ""
            },
            "type": "mesh3d"
           }
          ],
          "parcoords": [
           {
            "line": {
             "colorbar": {
              "outlinewidth": 0,
              "ticks": ""
             }
            },
            "type": "parcoords"
           }
          ],
          "pie": [
           {
            "automargin": true,
            "type": "pie"
           }
          ],
          "scatter": [
           {
            "fillpattern": {
             "fillmode": "overlay",
             "size": 10,
             "solidity": 0.2
            },
            "type": "scatter"
           }
          ],
          "scatter3d": [
           {
            "line": {
             "colorbar": {
              "outlinewidth": 0,
              "ticks": ""
             }
            },
            "marker": {
             "colorbar": {
              "outlinewidth": 0,
              "ticks": ""
             }
            },
            "type": "scatter3d"
           }
          ],
          "scattercarpet": [
           {
            "marker": {
             "colorbar": {
              "outlinewidth": 0,
              "ticks": ""
             }
            },
            "type": "scattercarpet"
           }
          ],
          "scattergeo": [
           {
            "marker": {
             "colorbar": {
              "outlinewidth": 0,
              "ticks": ""
             }
            },
            "type": "scattergeo"
           }
          ],
          "scattergl": [
           {
            "marker": {
             "colorbar": {
              "outlinewidth": 0,
              "ticks": ""
             }
            },
            "type": "scattergl"
           }
          ],
          "scattermap": [
           {
            "marker": {
             "colorbar": {
              "outlinewidth": 0,
              "ticks": ""
             }
            },
            "type": "scattermap"
           }
          ],
          "scattermapbox": [
           {
            "marker": {
             "colorbar": {
              "outlinewidth": 0,
              "ticks": ""
             }
            },
            "type": "scattermapbox"
           }
          ],
          "scatterpolar": [
           {
            "marker": {
             "colorbar": {
              "outlinewidth": 0,
              "ticks": ""
             }
            },
            "type": "scatterpolar"
           }
          ],
          "scatterpolargl": [
           {
            "marker": {
             "colorbar": {
              "outlinewidth": 0,
              "ticks": ""
             }
            },
            "type": "scatterpolargl"
           }
          ],
          "scatterternary": [
           {
            "marker": {
             "colorbar": {
              "outlinewidth": 0,
              "ticks": ""
             }
            },
            "type": "scatterternary"
           }
          ],
          "surface": [
           {
            "colorbar": {
             "outlinewidth": 0,
             "ticks": ""
            },
            "colorscale": [
             [
              0,
              "#0d0887"
             ],
             [
              0.1111111111111111,
              "#46039f"
             ],
             [
              0.2222222222222222,
              "#7201a8"
             ],
             [
              0.3333333333333333,
              "#9c179e"
             ],
             [
              0.4444444444444444,
              "#bd3786"
             ],
             [
              0.5555555555555556,
              "#d8576b"
             ],
             [
              0.6666666666666666,
              "#ed7953"
             ],
             [
              0.7777777777777778,
              "#fb9f3a"
             ],
             [
              0.8888888888888888,
              "#fdca26"
             ],
             [
              1,
              "#f0f921"
             ]
            ],
            "type": "surface"
           }
          ],
          "table": [
           {
            "cells": {
             "fill": {
              "color": "#EBF0F8"
             },
             "line": {
              "color": "white"
             }
            },
            "header": {
             "fill": {
              "color": "#C8D4E3"
             },
             "line": {
              "color": "white"
             }
            },
            "type": "table"
           }
          ]
         },
         "layout": {
          "annotationdefaults": {
           "arrowcolor": "#2a3f5f",
           "arrowhead": 0,
           "arrowwidth": 1
          },
          "autotypenumbers": "strict",
          "coloraxis": {
           "colorbar": {
            "outlinewidth": 0,
            "ticks": ""
           }
          },
          "colorscale": {
           "diverging": [
            [
             0,
             "#8e0152"
            ],
            [
             0.1,
             "#c51b7d"
            ],
            [
             0.2,
             "#de77ae"
            ],
            [
             0.3,
             "#f1b6da"
            ],
            [
             0.4,
             "#fde0ef"
            ],
            [
             0.5,
             "#f7f7f7"
            ],
            [
             0.6,
             "#e6f5d0"
            ],
            [
             0.7,
             "#b8e186"
            ],
            [
             0.8,
             "#7fbc41"
            ],
            [
             0.9,
             "#4d9221"
            ],
            [
             1,
             "#276419"
            ]
           ],
           "sequential": [
            [
             0,
             "#0d0887"
            ],
            [
             0.1111111111111111,
             "#46039f"
            ],
            [
             0.2222222222222222,
             "#7201a8"
            ],
            [
             0.3333333333333333,
             "#9c179e"
            ],
            [
             0.4444444444444444,
             "#bd3786"
            ],
            [
             0.5555555555555556,
             "#d8576b"
            ],
            [
             0.6666666666666666,
             "#ed7953"
            ],
            [
             0.7777777777777778,
             "#fb9f3a"
            ],
            [
             0.8888888888888888,
             "#fdca26"
            ],
            [
             1,
             "#f0f921"
            ]
           ],
           "sequentialminus": [
            [
             0,
             "#0d0887"
            ],
            [
             0.1111111111111111,
             "#46039f"
            ],
            [
             0.2222222222222222,
             "#7201a8"
            ],
            [
             0.3333333333333333,
             "#9c179e"
            ],
            [
             0.4444444444444444,
             "#bd3786"
            ],
            [
             0.5555555555555556,
             "#d8576b"
            ],
            [
             0.6666666666666666,
             "#ed7953"
            ],
            [
             0.7777777777777778,
             "#fb9f3a"
            ],
            [
             0.8888888888888888,
             "#fdca26"
            ],
            [
             1,
             "#f0f921"
            ]
           ]
          },
          "colorway": [
           "#636efa",
           "#EF553B",
           "#00cc96",
           "#ab63fa",
           "#FFA15A",
           "#19d3f3",
           "#FF6692",
           "#B6E880",
           "#FF97FF",
           "#FECB52"
          ],
          "font": {
           "color": "#2a3f5f"
          },
          "geo": {
           "bgcolor": "white",
           "lakecolor": "white",
           "landcolor": "#E5ECF6",
           "showlakes": true,
           "showland": true,
           "subunitcolor": "white"
          },
          "hoverlabel": {
           "align": "left"
          },
          "hovermode": "closest",
          "mapbox": {
           "style": "light"
          },
          "paper_bgcolor": "white",
          "plot_bgcolor": "#E5ECF6",
          "polar": {
           "angularaxis": {
            "gridcolor": "white",
            "linecolor": "white",
            "ticks": ""
           },
           "bgcolor": "#E5ECF6",
           "radialaxis": {
            "gridcolor": "white",
            "linecolor": "white",
            "ticks": ""
           }
          },
          "scene": {
           "xaxis": {
            "backgroundcolor": "#E5ECF6",
            "gridcolor": "white",
            "gridwidth": 2,
            "linecolor": "white",
            "showbackground": true,
            "ticks": "",
            "zerolinecolor": "white"
           },
           "yaxis": {
            "backgroundcolor": "#E5ECF6",
            "gridcolor": "white",
            "gridwidth": 2,
            "linecolor": "white",
            "showbackground": true,
            "ticks": "",
            "zerolinecolor": "white"
           },
           "zaxis": {
            "backgroundcolor": "#E5ECF6",
            "gridcolor": "white",
            "gridwidth": 2,
            "linecolor": "white",
            "showbackground": true,
            "ticks": "",
            "zerolinecolor": "white"
           }
          },
          "shapedefaults": {
           "line": {
            "color": "#2a3f5f"
           }
          },
          "ternary": {
           "aaxis": {
            "gridcolor": "white",
            "linecolor": "white",
            "ticks": ""
           },
           "baxis": {
            "gridcolor": "white",
            "linecolor": "white",
            "ticks": ""
           },
           "bgcolor": "#E5ECF6",
           "caxis": {
            "gridcolor": "white",
            "linecolor": "white",
            "ticks": ""
           }
          },
          "title": {
           "x": 0.05
          },
          "xaxis": {
           "automargin": true,
           "gridcolor": "white",
           "linecolor": "white",
           "ticks": "",
           "title": {
            "standoff": 15
           },
           "zerolinecolor": "white",
           "zerolinewidth": 2
          },
          "yaxis": {
           "automargin": true,
           "gridcolor": "white",
           "linecolor": "white",
           "ticks": "",
           "title": {
            "standoff": 15
           },
           "zerolinecolor": "white",
           "zerolinewidth": 2
          }
         }
        },
        "xaxis": {
         "anchor": "y",
         "domain": [
          0,
          1
         ],
         "title": {
          "text": "index"
         }
        },
        "yaxis": {
         "anchor": "x",
         "domain": [
          0,
          1
         ],
         "title": {
          "text": "value"
         }
        }
       }
      },
      "image/png": "[encoded data removed]"
     },
     "metadata": {},
     "output_type": "display_data"
    }
   ],
   "source": [
    "eh.Nx = 100\n",
    "eh.dt = 600\n",
    "eh.materials('./eh_config/materials.ini')\n",
    "dia_promedio = eh.meanDay(epw_file=\"epw/Torreon.epw\",month='05')\n",
    "tsa_df = eh.Tsa(\n",
    "    meanDay_dataframe=dia_promedio,\n",
    "    solar_absortance=0.4,\n",
    "    surface_tilt=90, \n",
    "    surface_azimuth=180,\n",
    "    )\n",
    "\n",
    "sc = [\n",
    "    (\"EPS\", 0.1),\n",
    "    # (\"Acero\", 0.1),\n",
    "#    (\"brick\", 0.2),\n",
    "#    (\"concrete\", 0.1),\n",
    "]\n",
    "\n",
    "sc_df, ET = eh.solveCS(sc, tsa_df,Energia=True)\n",
    "resultado = tsa_df.join(sc_df, how=\"right\")\n",
    "\n",
    "solucion = pd.concat([resultado[['zenith', 'elevation', 'azimuth', 'equation_of_time', 'Tn', 'DeltaTn', 'Ta', 'Ig', 'Ib', 'Id']], resultado[[\"Is\", \"Tsa\", \"Ti\"]].add_suffix(\"_1\", axis=1)], axis=1)\n",
    "\n",
    "\n",
    "px.scatter(\n",
    "    data_frame=solucion,\n",
    "    x=solucion.index,\n",
    "    y=[\"Ta\",\"Tsa_1\",\"Ti_1\"]\n",
    ")"
   ]
  },
  {
   "cell_type": "code",
   "execution_count": null,
   "id": "5e56f77b-0347-47ee-91ee-c9fbfb382211",
   "metadata": {},
   "outputs": [],
   "source": []
  }
 ],
 "metadata": {
  "kernelspec": {
   "display_name": "Python 3 (ipykernel)",
   "language": "python",
   "name": "python3"
  },
  "language_info": {
   "codemirror_mode": {
    "name": "ipython",
    "version": 3
   },
   "file_extension": ".py",
   "mimetype": "text/x-python",
   "name": "python",
   "nbconvert_exporter": "python",
   "pygments_lexer": "ipython3",
   "version": "3.12.7"
  }
 },
 "nbformat": 4,
 "nbformat_minor": 5
}
