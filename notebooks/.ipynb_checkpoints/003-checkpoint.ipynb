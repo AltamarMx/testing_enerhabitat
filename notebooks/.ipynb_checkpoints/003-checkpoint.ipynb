{
 "cells": [
  {
   "cell_type": "code",
   "execution_count": 2,
   "id": "7213fb8b",
   "metadata": {},
   "outputs": [
    {
     "data": {
      "text/plain": [
       "'../eh_config/materials.ini'"
      ]
     },
     "execution_count": 2,
     "metadata": {},
     "output_type": "execute_result"
    }
   ],
   "source": [
    "import enerhabitat as eh\n",
    "import pandas as pd \n",
    "import plotly.express as px\n",
    "import time\n",
    "\n",
    "eh.materials('../eh_config/materials.ini')"
   ]
  },
  {
   "cell_type": "code",
   "execution_count": 1,
   "id": "59b40609",
   "metadata": {},
   "outputs": [
    {
     "ename": "NameError",
     "evalue": "name 'pd' is not defined",
     "output_type": "error",
     "traceback": [
      "\u001b[1;31m---------------------------------------------------------------------------\u001b[0m",
      "\u001b[1;31mNameError\u001b[0m                                 Traceback (most recent call last)",
      "Cell \u001b[1;32mIn[1], line 7\u001b[0m\n\u001b[0;32m      5\u001b[0m dataframes \u001b[38;5;241m=\u001b[39m []\n\u001b[0;32m      6\u001b[0m \u001b[38;5;28;01mfor\u001b[39;00m file \u001b[38;5;129;01min\u001b[39;00m docs:\n\u001b[1;32m----> 7\u001b[0m     dataframes\u001b[38;5;241m.\u001b[39mappend(\u001b[43mpd\u001b[49m\u001b[38;5;241m.\u001b[39mread_csv(file, index_col\u001b[38;5;241m=\u001b[39m\u001b[38;5;241m0\u001b[39m, parse_dates\u001b[38;5;241m=\u001b[39m\u001b[38;5;28;01mTrue\u001b[39;00m))\n\u001b[0;32m      9\u001b[0m dataframes\n",
      "\u001b[1;31mNameError\u001b[0m: name 'pd' is not defined"
     ]
    }
   ],
   "source": [
    "docs = [\"../data/solucion_AC_001.csv\",\n",
    "        \"../data/solucion_AC_002.csv\",\n",
    "        \"../data/solucion_sin_AC_001.csv\",\n",
    "        \"../data/solucion_sin_AC_002.csv\"]\n",
    "dataframes = []\n",
    "for file in docs:\n",
    "    dataframes.append(pd.read_csv(file, index_col=0, parse_dates=True))\n",
    "    \n",
    "dataframes"
   ]
  },
  {
   "cell_type": "code",
   "execution_count": null,
   "id": "d1c10586",
   "metadata": {},
   "outputs": [],
   "source": []
  }
 ],
 "metadata": {
  "kernelspec": {
   "display_name": "prueba",
   "language": "python",
   "name": "python3"
  },
  "language_info": {
   "codemirror_mode": {
    "name": "ipython",
    "version": 3
   },
   "file_extension": ".py",
   "mimetype": "text/x-python",
   "name": "python",
   "nbconvert_exporter": "python",
   "pygments_lexer": "ipython3",
   "version": "3.10.16"
  }
 },
 "nbformat": 4,
 "nbformat_minor": 5
}
