{
 "cells": [
  {
   "cell_type": "code",
   "execution_count": 1,
   "id": "d315627a-8cd7-4e01-accf-83b3b019b469",
   "metadata": {},
   "outputs": [],
   "source": [
    "import enerhabitat as eh\n",
    "import pandas as pd \n",
    "import plotly.express as px\n",
    "import time\n",
    "\n",
    "eh.materials('./eh_config/materials.ini')\n",
    "\n",
    "sc = [\n",
    "    (\"Adobe\", 0.1),\n",
    "    (\"Acero\", 0.1),\n",
    "#    (\"brick\", 0.2),\n",
    "#    (\"concrete\", 0.1),\n",
    "]"
   ]
  },
  {
   "cell_type": "code",
   "execution_count": 2,
   "id": "2e29580e-df74-49ad-b865-bfd0cbb2c6b3",
   "metadata": {},
   "outputs": [
    {
     "name": "stdout",
     "output_type": "stream",
     "text": [
      "Tardó 758.744 ms\n",
      "\n",
      "<class 'pandas.core.frame.DataFrame'>\n",
      "DatetimeIndex: 86341 entries, 2025-10-15 00:00:00-08:00 to 2025-10-15 23:59:00-08:00\n",
      "Freq: s\n",
      "Data columns (total 10 columns):\n",
      " #   Column            Non-Null Count  Dtype  \n",
      "---  ------            --------------  -----  \n",
      " 0   zenith            86341 non-null  float64\n",
      " 1   elevation         86341 non-null  float64\n",
      " 2   azimuth           86341 non-null  float64\n",
      " 3   equation_of_time  86341 non-null  float64\n",
      " 4   Ta                86341 non-null  float64\n",
      " 5   Ig                86341 non-null  float64\n",
      " 6   Ib                86341 non-null  float64\n",
      " 7   Id                86341 non-null  float64\n",
      " 8   Tn                86341 non-null  float64\n",
      " 9   DeltaTn           86341 non-null  float64\n",
      "dtypes: float64(10)\n",
      "memory usage: 7.2 MB\n"
     ]
    }
   ],
   "source": [
    "t0 = time.perf_counter()\n",
    "\n",
    "dia_promedio = eh.meanDay(epw_file=\"epw/USA_CA_San.Francisco.Intl.AP.724940_TMY3.epw\")\n",
    "\n",
    "t1 = time.perf_counter()\n",
    "print(f\"Tardó {(t1 - t0)*1000:.3f} ms\\n\")\n",
    "\n",
    "dia_promedio.info()"
   ]
  },
  {
   "cell_type": "code",
   "execution_count": 3,
   "id": "e917ea7a-7a3c-4179-af8d-97d7f2df45a8",
   "metadata": {},
   "outputs": [
    {
     "name": "stdout",
     "output_type": "stream",
     "text": [
      "Tardó 11.024 ms\n",
      "\n",
      "<class 'pandas.core.frame.DataFrame'>\n",
      "DatetimeIndex: 86341 entries, 2025-10-15 00:00:00-08:00 to 2025-10-15 23:59:00-08:00\n",
      "Freq: s\n",
      "Data columns (total 12 columns):\n",
      " #   Column            Non-Null Count  Dtype  \n",
      "---  ------            --------------  -----  \n",
      " 0   zenith            86341 non-null  float64\n",
      " 1   elevation         86341 non-null  float64\n",
      " 2   azimuth           86341 non-null  float64\n",
      " 3   equation_of_time  86341 non-null  float64\n",
      " 4   Ta                86341 non-null  float64\n",
      " 5   Ig                86341 non-null  float64\n",
      " 6   Ib                86341 non-null  float64\n",
      " 7   Id                86341 non-null  float64\n",
      " 8   Tn                86341 non-null  float64\n",
      " 9   DeltaTn           86341 non-null  float64\n",
      " 10  Is                86341 non-null  float64\n",
      " 11  Tsa               86341 non-null  float64\n",
      "dtypes: float64(12)\n",
      "memory usage: 8.6 MB\n"
     ]
    }
   ],
   "source": [
    "t0 = time.perf_counter()\n",
    "\n",
    "tsa_df = eh.Tsa(\n",
    "    meanDay_dataframe=dia_promedio,\n",
    "    solar_absortance=0.8,\n",
    "    surface_tilt=90, \n",
    "    surface_azimuth=90,\n",
    "    )\n",
    "\n",
    "t1 = time.perf_counter()\n",
    "print(f\"Tardó {(t1 - t0)*1000:.3f} ms\\n\")\n",
    "\n",
    "tsa_df.info()"
   ]
  },
  {
   "cell_type": "code",
   "execution_count": 4,
   "id": "2e6ca6f6-48a8-4edf-8d58-ba52f44dfb16",
   "metadata": {},
   "outputs": [
    {
     "name": "stdout",
     "output_type": "stream",
     "text": [
      "Tardó 40.501 ms\n",
      "\n",
      "<class 'pandas.core.series.Series'>\n",
      "DatetimeIndex: 144 entries, 2025-10-15 00:00:00-08:00 to 2025-10-15 23:50:00-08:00\n",
      "Freq: 600s\n",
      "Series name: Ti\n",
      "Non-Null Count  Dtype  \n",
      "--------------  -----  \n",
      "144 non-null    float64\n",
      "dtypes: float64(1)\n",
      "memory usage: 2.2 KB\n"
     ]
    }
   ],
   "source": [
    "t0 = time.perf_counter()\n",
    "\n",
    "sc_df = eh.solveCS(sc, tsa_df)\n",
    "\n",
    "t1 = time.perf_counter()\n",
    "print(f\"Tardó {(t1 - t0)*1000:.3f} ms\\n\")\n",
    "\n",
    "sc_df.info()\n",
    "sc_df = sc_df.round(2)"
   ]
  },
  {
   "cell_type": "code",
   "execution_count": 5,
   "id": "8211553c-0e3a-4c54-b8c1-86ce015d3739",
   "metadata": {},
   "outputs": [
    {
     "name": "stdout",
     "output_type": "stream",
     "text": [
      "<class 'pandas.core.frame.DataFrame'>\n",
      "DatetimeIndex: 144 entries, 2025-10-15 00:00:00-08:00 to 2025-10-15 23:50:00-08:00\n",
      "Freq: 600s\n",
      "Data columns (total 13 columns):\n",
      " #   Column            Non-Null Count  Dtype  \n",
      "---  ------            --------------  -----  \n",
      " 0   zenith            144 non-null    float64\n",
      " 1   elevation         144 non-null    float64\n",
      " 2   azimuth           144 non-null    float64\n",
      " 3   equation_of_time  144 non-null    float64\n",
      " 4   Ta                144 non-null    float64\n",
      " 5   Ig                144 non-null    float64\n",
      " 6   Ib                144 non-null    float64\n",
      " 7   Id                144 non-null    float64\n",
      " 8   Tn                144 non-null    float64\n",
      " 9   DeltaTn           144 non-null    float64\n",
      " 10  Is                144 non-null    float64\n",
      " 11  Tsa               144 non-null    float64\n",
      " 12  Ti                144 non-null    float64\n",
      "dtypes: float64(13)\n",
      "memory usage: 15.8 KB\n",
      "<class 'pandas.core.frame.DataFrame'>\n",
      "DatetimeIndex: 144 entries, 2025-10-15 00:00:00-08:00 to 2025-10-15 23:50:00-08:00\n",
      "Freq: 600s\n",
      "Data columns (total 13 columns):\n",
      " #   Column            Non-Null Count  Dtype  \n",
      "---  ------            --------------  -----  \n",
      " 0   zenith            144 non-null    float64\n",
      " 1   elevation         144 non-null    float64\n",
      " 2   azimuth           144 non-null    float64\n",
      " 3   equation_of_time  144 non-null    float64\n",
      " 4   Tn                144 non-null    float64\n",
      " 5   DeltaTn           144 non-null    float64\n",
      " 6   Ta                144 non-null    float64\n",
      " 7   Ig                144 non-null    float64\n",
      " 8   Ib                144 non-null    float64\n",
      " 9   Id                144 non-null    float64\n",
      " 10  Is                144 non-null    float64\n",
      " 11  Tsa_1             144 non-null    float64\n",
      " 12  Ti_1              144 non-null    float64\n",
      "dtypes: float64(13)\n",
      "memory usage: 15.8 KB\n"
     ]
    }
   ],
   "source": [
    "resultado = tsa_df.join(sc_df, how=\"right\")\n",
    "resultado.info()\n",
    "\n",
    "solucion = pd.concat([resultado[['zenith', 'elevation', 'azimuth', 'equation_of_time', 'Tn', 'DeltaTn', 'Ta', 'Ig', 'Ib', 'Id', 'Is']], resultado[[\"Tsa\", \"Ti\"]].add_suffix(\"_1\", axis=1)], axis=1)\n",
    "solucion.info()"
   ]
  },
  {
   "cell_type": "code",
   "execution_count": 6,
   "id": "81109391-862e-4cba-b5c0-e097de2216cd",
   "metadata": {},
   "outputs": [
    {
     "data": {
      "application/vnd.plotly.v1+json": {
       "config": {
        "plotlyServerURL": "https://plot.ly"
       },
       "data": [
        {
         "hovertemplate": "variable=Ta<br>index=%{x}<br>value=%{y}<extra></extra>",
         "legendgroup": "Ta",
         "marker": {
          "color": "#636efa",
          "symbol": "circle"
         },
         "mode": "markers",
         "name": "Ta",
         "orientation": "v",
         "showlegend": true,
         "type": "scatter",
         "x": [
          "2025-10-15T00:00:00-08:00",
          "2025-10-15T00:10:00-08:00",
          "2025-10-15T00:20:00-08:00",
          "2025-10-15T00:30:00-08:00",
          "2025-10-15T00:40:00-08:00",
          "2025-10-15T00:50:00-08:00",
          "2025-10-15T01:00:00-08:00",
          "2025-10-15T01:10:00-08:00",
          "2025-10-15T01:20:00-08:00",
          "2025-10-15T01:30:00-08:00",
          "2025-10-15T01:40:00-08:00",
          "2025-10-15T01:50:00-08:00",
          "2025-10-15T02:00:00-08:00",
          "2025-10-15T02:10:00-08:00",
          "2025-10-15T02:20:00-08:00",
          "2025-10-15T02:30:00-08:00",
          "2025-10-15T02:40:00-08:00",
          "2025-10-15T02:50:00-08:00",
          "2025-10-15T03:00:00-08:00",
          "2025-10-15T03:10:00-08:00",
          "2025-10-15T03:20:00-08:00",
          "2025-10-15T03:30:00-08:00",
          "2025-10-15T03:40:00-08:00",
          "2025-10-15T03:50:00-08:00",
          "2025-10-15T04:00:00-08:00",
          "2025-10-15T04:10:00-08:00",
          "2025-10-15T04:20:00-08:00",
          "2025-10-15T04:30:00-08:00",
          "2025-10-15T04:40:00-08:00",
          "2025-10-15T04:50:00-08:00",
          "2025-10-15T05:00:00-08:00",
          "2025-10-15T05:10:00-08:00",
          "2025-10-15T05:20:00-08:00",
          "2025-10-15T05:30:00-08:00",
          "2025-10-15T05:40:00-08:00",
          "2025-10-15T05:50:00-08:00",
          "2025-10-15T06:00:00-08:00",
          "2025-10-15T06:10:00-08:00",
          "2025-10-15T06:20:00-08:00",
          "2025-10-15T06:30:00-08:00",
          "2025-10-15T06:40:00-08:00",
          "2025-10-15T06:50:00-08:00",
          "2025-10-15T07:00:00-08:00",
          "2025-10-15T07:10:00-08:00",
          "2025-10-15T07:20:00-08:00",
          "2025-10-15T07:30:00-08:00",
          "2025-10-15T07:40:00-08:00",
          "2025-10-15T07:50:00-08:00",
          "2025-10-15T08:00:00-08:00",
          "2025-10-15T08:10:00-08:00",
          "2025-10-15T08:20:00-08:00",
          "2025-10-15T08:30:00-08:00",
          "2025-10-15T08:40:00-08:00",
          "2025-10-15T08:50:00-08:00",
          "2025-10-15T09:00:00-08:00",
          "2025-10-15T09:10:00-08:00",
          "2025-10-15T09:20:00-08:00",
          "2025-10-15T09:30:00-08:00",
          "2025-10-15T09:40:00-08:00",
          "2025-10-15T09:50:00-08:00",
          "2025-10-15T10:00:00-08:00",
          "2025-10-15T10:10:00-08:00",
          "2025-10-15T10:20:00-08:00",
          "2025-10-15T10:30:00-08:00",
          "2025-10-15T10:40:00-08:00",
          "2025-10-15T10:50:00-08:00",
          "2025-10-15T11:00:00-08:00",
          "2025-10-15T11:10:00-08:00",
          "2025-10-15T11:20:00-08:00",
          "2025-10-15T11:30:00-08:00",
          "2025-10-15T11:40:00-08:00",
          "2025-10-15T11:50:00-08:00",
          "2025-10-15T12:00:00-08:00",
          "2025-10-15T12:10:00-08:00",
          "2025-10-15T12:20:00-08:00",
          "2025-10-15T12:30:00-08:00",
          "2025-10-15T12:40:00-08:00",
          "2025-10-15T12:50:00-08:00",
          "2025-10-15T13:00:00-08:00",
          "2025-10-15T13:10:00-08:00",
          "2025-10-15T13:20:00-08:00",
          "2025-10-15T13:30:00-08:00",
          "2025-10-15T13:40:00-08:00",
          "2025-10-15T13:50:00-08:00",
          "2025-10-15T14:00:00-08:00",
          "2025-10-15T14:10:00-08:00",
          "2025-10-15T14:20:00-08:00",
          "2025-10-15T14:30:00-08:00",
          "2025-10-15T14:40:00-08:00",
          "2025-10-15T14:50:00-08:00",
          "2025-10-15T15:00:00-08:00",
          "2025-10-15T15:10:00-08:00",
          "2025-10-15T15:20:00-08:00",
          "2025-10-15T15:30:00-08:00",
          "2025-10-15T15:40:00-08:00",
          "2025-10-15T15:50:00-08:00",
          "2025-10-15T16:00:00-08:00",
          "2025-10-15T16:10:00-08:00",
          "2025-10-15T16:20:00-08:00",
          "2025-10-15T16:30:00-08:00",
          "2025-10-15T16:40:00-08:00",
          "2025-10-15T16:50:00-08:00",
          "2025-10-15T17:00:00-08:00",
          "2025-10-15T17:10:00-08:00",
          "2025-10-15T17:20:00-08:00",
          "2025-10-15T17:30:00-08:00",
          "2025-10-15T17:40:00-08:00",
          "2025-10-15T17:50:00-08:00",
          "2025-10-15T18:00:00-08:00",
          "2025-10-15T18:10:00-08:00",
          "2025-10-15T18:20:00-08:00",
          "2025-10-15T18:30:00-08:00",
          "2025-10-15T18:40:00-08:00",
          "2025-10-15T18:50:00-08:00",
          "2025-10-15T19:00:00-08:00",
          "2025-10-15T19:10:00-08:00",
          "2025-10-15T19:20:00-08:00",
          "2025-10-15T19:30:00-08:00",
          "2025-10-15T19:40:00-08:00",
          "2025-10-15T19:50:00-08:00",
          "2025-10-15T20:00:00-08:00",
          "2025-10-15T20:10:00-08:00",
          "2025-10-15T20:20:00-08:00",
          "2025-10-15T20:30:00-08:00",
          "2025-10-15T20:40:00-08:00",
          "2025-10-15T20:50:00-08:00",
          "2025-10-15T21:00:00-08:00",
          "2025-10-15T21:10:00-08:00",
          "2025-10-15T21:20:00-08:00",
          "2025-10-15T21:30:00-08:00",
          "2025-10-15T21:40:00-08:00",
          "2025-10-15T21:50:00-08:00",
          "2025-10-15T22:00:00-08:00",
          "2025-10-15T22:10:00-08:00",
          "2025-10-15T22:20:00-08:00",
          "2025-10-15T22:30:00-08:00",
          "2025-10-15T22:40:00-08:00",
          "2025-10-15T22:50:00-08:00",
          "2025-10-15T23:00:00-08:00",
          "2025-10-15T23:10:00-08:00",
          "2025-10-15T23:20:00-08:00",
          "2025-10-15T23:30:00-08:00",
          "2025-10-15T23:40:00-08:00",
          "2025-10-15T23:50:00-08:00"
         ],
         "xaxis": "x",
         "y": {
          "bdata": "lf11256cK0C7lkuc7GQrQKPAao0TLitAW4gMrR/4KkC4EE3HHMMqQHUxl3MWjypA6JsbEhhcKkA7E1TJLCoqQDxDk4Nf+SlAc76h7LrJKUDoqGhvSZspQFySqjMVbilAX//KGyhCKUCfHaXCixcpQFwccnlJ7ihAqZ6/RWrGKEBruXbf9p8oQJbr8673eihAVHswy3RXKEAGn/33dTUoQBrVUaQCFShAysmo6CH2J0DFJXaF2tgnQICcq+EyvSdA/YxSCTGjJ0A+gzms2oonQIHktRw1dCdA1At6TkVfJ0AqGIDVD0wnQIWoCeWYOidAS760TuQqJ0An+aWB9RwnQCtbyInPECdAVr8iD3UGJ0CnJ0NV6P0mQGADwDor9yZAE4nPOD/yJkB1O/ViJe8mQOOqxWbe7SZAMGWlYOTyJkBgIEQZaAcnQOTsA1mKKydAgpvdrAZfJ0Bi9+uMe6EnQJ43LRVr8idAp3398ztRKEDCnoaMOr0oQL4J/0qaNSlALT8zKHe5KUCtvHtZ10cqQIcU7Smt3ypA0tFB+dh/K0BZUrZcKycsQK5xzl1n1CxAgDbE0kSGLUBwFy7McjsuQEQ7QxOa8i5AEJ4EtF+qL0Bkvj3HszAwQOD+F3UrizBAHWx7g+vjMECO4xzTSzoxQARp9sOojTFAZug8a2TdMUDt6YW+5ygyQN2J5rGjbzJAwrHtRhKxMkAQQXiKt+wyQEhPfn8iIjNAyrwc9e1QM0BCnUVGwXgzQFBcrAFRmTNAoYKveF+yM0D+YTE0vcMzQMVPgk5JzTNAOnDfLD3PM0BCSyiXhM4zQIP/WZrizDNApkLakVfKM0AgAAQM5MYzQJA4CMqIwjNAdMPDv0a9M0B7/IkTH7czQP5n5B0TsDNA3FxHaSSoM0AUxLuxVJ8zQPoAfuSllTNAXheSHxqLM0ASJ02xs38zQN5W1Bd1czNAAEuRAGFmM0DKRZxHelgzQCUTHPfDSTNA6uGbRkE6M0BYMFea9SkzQADze4LkGDNAnx9juhEHM0Cdx78ngfQyQL3vxNk24TJA1FRCCDfNMkAcT7gShrgyQNIHY38oozJAoTY9+iKNMkA5nvpTenYyQEqB+oAzXzJAyEoymFNHMkAcphDS3y4yQKJFWYfdFTJAPpf5L1L8MUCKqNZhQ+IxQJF9lM+2xzFAXx5XR7KsMUBBoX2xO5ExQKh4Vw9ZdTFAEk3UeRBZMUBqrC4gaDwxQJTZkUZmHzFAwAe7RBECMUBOTpaEb+QwQNSi14CHxjBA0CeQw1+oMEBWH8Dk/okwQLnR5YhrazBA9biJX6xMMEAWQsghyC0wQIR22ZDFDjBA1r4t6VbfL0D/6/8zAaEvQBDneqOXYi9ABalH3SckL0B+xGqIv+UuQPAsSEpspy5A8FinwztpLkCkZriNOysuQBnpGjd57S1ACAXnQAKwLUDagrkb5HItQFB7wyQsNi1AUEPeouf5LEBQOqTDI74sQAAej5jtgixAbIQcFFJILECSHPkGXg4sQORTMx0e1StA",
          "dtype": "f8"
         },
         "yaxis": "y"
        },
        {
         "hovertemplate": "variable=Tsa_1<br>index=%{x}<br>value=%{y}<extra></extra>",
         "legendgroup": "Tsa_1",
         "marker": {
          "color": "#EF553B",
          "symbol": "circle"
         },
         "mode": "markers",
         "name": "Tsa_1",
         "orientation": "v",
         "showlegend": true,
         "type": "scatter",
         "x": [
          "2025-10-15T00:00:00-08:00",
          "2025-10-15T00:10:00-08:00",
          "2025-10-15T00:20:00-08:00",
          "2025-10-15T00:30:00-08:00",
          "2025-10-15T00:40:00-08:00",
          "2025-10-15T00:50:00-08:00",
          "2025-10-15T01:00:00-08:00",
          "2025-10-15T01:10:00-08:00",
          "2025-10-15T01:20:00-08:00",
          "2025-10-15T01:30:00-08:00",
          "2025-10-15T01:40:00-08:00",
          "2025-10-15T01:50:00-08:00",
          "2025-10-15T02:00:00-08:00",
          "2025-10-15T02:10:00-08:00",
          "2025-10-15T02:20:00-08:00",
          "2025-10-15T02:30:00-08:00",
          "2025-10-15T02:40:00-08:00",
          "2025-10-15T02:50:00-08:00",
          "2025-10-15T03:00:00-08:00",
          "2025-10-15T03:10:00-08:00",
          "2025-10-15T03:20:00-08:00",
          "2025-10-15T03:30:00-08:00",
          "2025-10-15T03:40:00-08:00",
          "2025-10-15T03:50:00-08:00",
          "2025-10-15T04:00:00-08:00",
          "2025-10-15T04:10:00-08:00",
          "2025-10-15T04:20:00-08:00",
          "2025-10-15T04:30:00-08:00",
          "2025-10-15T04:40:00-08:00",
          "2025-10-15T04:50:00-08:00",
          "2025-10-15T05:00:00-08:00",
          "2025-10-15T05:10:00-08:00",
          "2025-10-15T05:20:00-08:00",
          "2025-10-15T05:30:00-08:00",
          "2025-10-15T05:40:00-08:00",
          "2025-10-15T05:50:00-08:00",
          "2025-10-15T06:00:00-08:00",
          "2025-10-15T06:10:00-08:00",
          "2025-10-15T06:20:00-08:00",
          "2025-10-15T06:30:00-08:00",
          "2025-10-15T06:40:00-08:00",
          "2025-10-15T06:50:00-08:00",
          "2025-10-15T07:00:00-08:00",
          "2025-10-15T07:10:00-08:00",
          "2025-10-15T07:20:00-08:00",
          "2025-10-15T07:30:00-08:00",
          "2025-10-15T07:40:00-08:00",
          "2025-10-15T07:50:00-08:00",
          "2025-10-15T08:00:00-08:00",
          "2025-10-15T08:10:00-08:00",
          "2025-10-15T08:20:00-08:00",
          "2025-10-15T08:30:00-08:00",
          "2025-10-15T08:40:00-08:00",
          "2025-10-15T08:50:00-08:00",
          "2025-10-15T09:00:00-08:00",
          "2025-10-15T09:10:00-08:00",
          "2025-10-15T09:20:00-08:00",
          "2025-10-15T09:30:00-08:00",
          "2025-10-15T09:40:00-08:00",
          "2025-10-15T09:50:00-08:00",
          "2025-10-15T10:00:00-08:00",
          "2025-10-15T10:10:00-08:00",
          "2025-10-15T10:20:00-08:00",
          "2025-10-15T10:30:00-08:00",
          "2025-10-15T10:40:00-08:00",
          "2025-10-15T10:50:00-08:00",
          "2025-10-15T11:00:00-08:00",
          "2025-10-15T11:10:00-08:00",
          "2025-10-15T11:20:00-08:00",
          "2025-10-15T11:30:00-08:00",
          "2025-10-15T11:40:00-08:00",
          "2025-10-15T11:50:00-08:00",
          "2025-10-15T12:00:00-08:00",
          "2025-10-15T12:10:00-08:00",
          "2025-10-15T12:20:00-08:00",
          "2025-10-15T12:30:00-08:00",
          "2025-10-15T12:40:00-08:00",
          "2025-10-15T12:50:00-08:00",
          "2025-10-15T13:00:00-08:00",
          "2025-10-15T13:10:00-08:00",
          "2025-10-15T13:20:00-08:00",
          "2025-10-15T13:30:00-08:00",
          "2025-10-15T13:40:00-08:00",
          "2025-10-15T13:50:00-08:00",
          "2025-10-15T14:00:00-08:00",
          "2025-10-15T14:10:00-08:00",
          "2025-10-15T14:20:00-08:00",
          "2025-10-15T14:30:00-08:00",
          "2025-10-15T14:40:00-08:00",
          "2025-10-15T14:50:00-08:00",
          "2025-10-15T15:00:00-08:00",
          "2025-10-15T15:10:00-08:00",
          "2025-10-15T15:20:00-08:00",
          "2025-10-15T15:30:00-08:00",
          "2025-10-15T15:40:00-08:00",
          "2025-10-15T15:50:00-08:00",
          "2025-10-15T16:00:00-08:00",
          "2025-10-15T16:10:00-08:00",
          "2025-10-15T16:20:00-08:00",
          "2025-10-15T16:30:00-08:00",
          "2025-10-15T16:40:00-08:00",
          "2025-10-15T16:50:00-08:00",
          "2025-10-15T17:00:00-08:00",
          "2025-10-15T17:10:00-08:00",
          "2025-10-15T17:20:00-08:00",
          "2025-10-15T17:30:00-08:00",
          "2025-10-15T17:40:00-08:00",
          "2025-10-15T17:50:00-08:00",
          "2025-10-15T18:00:00-08:00",
          "2025-10-15T18:10:00-08:00",
          "2025-10-15T18:20:00-08:00",
          "2025-10-15T18:30:00-08:00",
          "2025-10-15T18:40:00-08:00",
          "2025-10-15T18:50:00-08:00",
          "2025-10-15T19:00:00-08:00",
          "2025-10-15T19:10:00-08:00",
          "2025-10-15T19:20:00-08:00",
          "2025-10-15T19:30:00-08:00",
          "2025-10-15T19:40:00-08:00",
          "2025-10-15T19:50:00-08:00",
          "2025-10-15T20:00:00-08:00",
          "2025-10-15T20:10:00-08:00",
          "2025-10-15T20:20:00-08:00",
          "2025-10-15T20:30:00-08:00",
          "2025-10-15T20:40:00-08:00",
          "2025-10-15T20:50:00-08:00",
          "2025-10-15T21:00:00-08:00",
          "2025-10-15T21:10:00-08:00",
          "2025-10-15T21:20:00-08:00",
          "2025-10-15T21:30:00-08:00",
          "2025-10-15T21:40:00-08:00",
          "2025-10-15T21:50:00-08:00",
          "2025-10-15T22:00:00-08:00",
          "2025-10-15T22:10:00-08:00",
          "2025-10-15T22:20:00-08:00",
          "2025-10-15T22:30:00-08:00",
          "2025-10-15T22:40:00-08:00",
          "2025-10-15T22:50:00-08:00",
          "2025-10-15T23:00:00-08:00",
          "2025-10-15T23:10:00-08:00",
          "2025-10-15T23:20:00-08:00",
          "2025-10-15T23:30:00-08:00",
          "2025-10-15T23:40:00-08:00",
          "2025-10-15T23:50:00-08:00"
         ],
         "xaxis": "x",
         "y": {
          "bdata": "lf11256cK0C7lkuc7GQrQKPAao0TLitAW4gMrR/4KkC4EE3HHMMqQHUxl3MWjypA6JsbEhhcKkA7E1TJLCoqQDxDk4Nf+SlAc76h7LrJKUDoqGhvSZspQFySqjMVbilAX//KGyhCKUCfHaXCixcpQFwccnlJ7ihAqZ6/RWrGKEBruXbf9p8oQJbr8673eihAVHswy3RXKEAGn/33dTUoQBrVUaQCFShAysmo6CH2J0DFJXaF2tgnQICcq+EyvSdA/YxSCTGjJ0A+gzms2oonQIHktRw1dCdA1At6TkVfJ0AqGIDVD0wnQIWoCeWYOidAS760TuQqJ0C4vM7RVXMoQOX06vuZwilAXmTSUtYWK0AkEQtGLG4sQKh/PLS6xi1AcEF6cp8eL0C2LwYSNSgyQLSAhX3wuzRA4OTdWJRJN0AG+MBqldI5QF54ExzqUzxA5Vn6YmLKPkBIkNu6nxZAQHPZ+Ye+w0BAHZtSGL9rQUDuRr+b0g1CQBA/9tEqqUJAmIAi8Po8Q0AH4V2XW1VDQKv5OGxOakNA+C5XkJZ7Q0CZMTyK9ohDQCAfD9YwkkNAS+veegiXQ0DQUE3Zy7dDQLw0xR/I0UNAyLA+EKvkQ0BQlqJXJ/BDQGzppjr180NAl9zjQNPvQ0AxrwmKOq5DQGYhW+uVZ0NAAfAHP9MbQ0AMLNa+5cpCQCCpwHbGdEJAK9XKq3QZQkCyKcutlMJBQABeZ0+AXUFAlRyq+jPqQEDFo8Z7vGhAQGJ3kYBusj9A/mLWapIjP0BqoAdW0vQ+QEDsB6BAvj5Aw2oUrhaAPkDaowxIQD8+QCq27XqA/T1AXFcdote6PUD8N3Gd8o49QJKTn9wlYj1AnEGFU3I0PUDKnXUo2QU9QHMs+rNb1jxAd0SHgPulPEBWKTktoTk8QOLjOMRnzDtA7HeKY1FeO0BHBYNZYO86QLmyRySXfzpAgSRCcfgOOkAwwxeUlIc5QG40Yh9h/zhAF6esSmF2OEBpmTJ6mOw3QPb/IT4KYjdAeNDTUbrWNkCe7pLmnyY2QOWM+r/LdTVAJGjaFULENECT2LJHBxI0QHAHwNsfXzNAZ6z8fZCrMkAJKxqX1Y8yQCMleoN8czJAqwUSWopWMkAJeFBTBDkyQJgu+cfvGjJAPpf5L1L8MUCKqNZhQ+IxQJF9lM+2xzFAXx5XR7KsMUBBoX2xO5ExQKh4Vw9ZdTFAEk3UeRBZMUBqrC4gaDwxQJTZkUZmHzFAwAe7RBECMUBOTpaEb+QwQNSi14CHxjBA0CeQw1+oMEBWH8Dk/okwQLnR5YhrazBA9biJX6xMMEAWQsghyC0wQIR22ZDFDjBA1r4t6VbfL0D/6/8zAaEvQBDneqOXYi9ABalH3SckL0B+xGqIv+UuQPAsSEpspy5A8FinwztpLkCkZriNOysuQBnpGjd57S1ACAXnQAKwLUDagrkb5HItQFB7wyQsNi1AUEPeouf5LEBQOqTDI74sQAAej5jtgixAbIQcFFJILECSHPkGXg4sQORTMx0e1StA",
          "dtype": "f8"
         },
         "yaxis": "y"
        },
        {
         "hovertemplate": "variable=Ti_1<br>index=%{x}<br>value=%{y}<extra></extra>",
         "legendgroup": "Ti_1",
         "marker": {
          "color": "#00cc96",
          "symbol": "circle"
         },
         "mode": "markers",
         "name": "Ti_1",
         "orientation": "v",
         "showlegend": true,
         "type": "scatter",
         "x": [
          "2025-10-15T00:00:00-08:00",
          "2025-10-15T00:10:00-08:00",
          "2025-10-15T00:20:00-08:00",
          "2025-10-15T00:30:00-08:00",
          "2025-10-15T00:40:00-08:00",
          "2025-10-15T00:50:00-08:00",
          "2025-10-15T01:00:00-08:00",
          "2025-10-15T01:10:00-08:00",
          "2025-10-15T01:20:00-08:00",
          "2025-10-15T01:30:00-08:00",
          "2025-10-15T01:40:00-08:00",
          "2025-10-15T01:50:00-08:00",
          "2025-10-15T02:00:00-08:00",
          "2025-10-15T02:10:00-08:00",
          "2025-10-15T02:20:00-08:00",
          "2025-10-15T02:30:00-08:00",
          "2025-10-15T02:40:00-08:00",
          "2025-10-15T02:50:00-08:00",
          "2025-10-15T03:00:00-08:00",
          "2025-10-15T03:10:00-08:00",
          "2025-10-15T03:20:00-08:00",
          "2025-10-15T03:30:00-08:00",
          "2025-10-15T03:40:00-08:00",
          "2025-10-15T03:50:00-08:00",
          "2025-10-15T04:00:00-08:00",
          "2025-10-15T04:10:00-08:00",
          "2025-10-15T04:20:00-08:00",
          "2025-10-15T04:30:00-08:00",
          "2025-10-15T04:40:00-08:00",
          "2025-10-15T04:50:00-08:00",
          "2025-10-15T05:00:00-08:00",
          "2025-10-15T05:10:00-08:00",
          "2025-10-15T05:20:00-08:00",
          "2025-10-15T05:30:00-08:00",
          "2025-10-15T05:40:00-08:00",
          "2025-10-15T05:50:00-08:00",
          "2025-10-15T06:00:00-08:00",
          "2025-10-15T06:10:00-08:00",
          "2025-10-15T06:20:00-08:00",
          "2025-10-15T06:30:00-08:00",
          "2025-10-15T06:40:00-08:00",
          "2025-10-15T06:50:00-08:00",
          "2025-10-15T07:00:00-08:00",
          "2025-10-15T07:10:00-08:00",
          "2025-10-15T07:20:00-08:00",
          "2025-10-15T07:30:00-08:00",
          "2025-10-15T07:40:00-08:00",
          "2025-10-15T07:50:00-08:00",
          "2025-10-15T08:00:00-08:00",
          "2025-10-15T08:10:00-08:00",
          "2025-10-15T08:20:00-08:00",
          "2025-10-15T08:30:00-08:00",
          "2025-10-15T08:40:00-08:00",
          "2025-10-15T08:50:00-08:00",
          "2025-10-15T09:00:00-08:00",
          "2025-10-15T09:10:00-08:00",
          "2025-10-15T09:20:00-08:00",
          "2025-10-15T09:30:00-08:00",
          "2025-10-15T09:40:00-08:00",
          "2025-10-15T09:50:00-08:00",
          "2025-10-15T10:00:00-08:00",
          "2025-10-15T10:10:00-08:00",
          "2025-10-15T10:20:00-08:00",
          "2025-10-15T10:30:00-08:00",
          "2025-10-15T10:40:00-08:00",
          "2025-10-15T10:50:00-08:00",
          "2025-10-15T11:00:00-08:00",
          "2025-10-15T11:10:00-08:00",
          "2025-10-15T11:20:00-08:00",
          "2025-10-15T11:30:00-08:00",
          "2025-10-15T11:40:00-08:00",
          "2025-10-15T11:50:00-08:00",
          "2025-10-15T12:00:00-08:00",
          "2025-10-15T12:10:00-08:00",
          "2025-10-15T12:20:00-08:00",
          "2025-10-15T12:30:00-08:00",
          "2025-10-15T12:40:00-08:00",
          "2025-10-15T12:50:00-08:00",
          "2025-10-15T13:00:00-08:00",
          "2025-10-15T13:10:00-08:00",
          "2025-10-15T13:20:00-08:00",
          "2025-10-15T13:30:00-08:00",
          "2025-10-15T13:40:00-08:00",
          "2025-10-15T13:50:00-08:00",
          "2025-10-15T14:00:00-08:00",
          "2025-10-15T14:10:00-08:00",
          "2025-10-15T14:20:00-08:00",
          "2025-10-15T14:30:00-08:00",
          "2025-10-15T14:40:00-08:00",
          "2025-10-15T14:50:00-08:00",
          "2025-10-15T15:00:00-08:00",
          "2025-10-15T15:10:00-08:00",
          "2025-10-15T15:20:00-08:00",
          "2025-10-15T15:30:00-08:00",
          "2025-10-15T15:40:00-08:00",
          "2025-10-15T15:50:00-08:00",
          "2025-10-15T16:00:00-08:00",
          "2025-10-15T16:10:00-08:00",
          "2025-10-15T16:20:00-08:00",
          "2025-10-15T16:30:00-08:00",
          "2025-10-15T16:40:00-08:00",
          "2025-10-15T16:50:00-08:00",
          "2025-10-15T17:00:00-08:00",
          "2025-10-15T17:10:00-08:00",
          "2025-10-15T17:20:00-08:00",
          "2025-10-15T17:30:00-08:00",
          "2025-10-15T17:40:00-08:00",
          "2025-10-15T17:50:00-08:00",
          "2025-10-15T18:00:00-08:00",
          "2025-10-15T18:10:00-08:00",
          "2025-10-15T18:20:00-08:00",
          "2025-10-15T18:30:00-08:00",
          "2025-10-15T18:40:00-08:00",
          "2025-10-15T18:50:00-08:00",
          "2025-10-15T19:00:00-08:00",
          "2025-10-15T19:10:00-08:00",
          "2025-10-15T19:20:00-08:00",
          "2025-10-15T19:30:00-08:00",
          "2025-10-15T19:40:00-08:00",
          "2025-10-15T19:50:00-08:00",
          "2025-10-15T20:00:00-08:00",
          "2025-10-15T20:10:00-08:00",
          "2025-10-15T20:20:00-08:00",
          "2025-10-15T20:30:00-08:00",
          "2025-10-15T20:40:00-08:00",
          "2025-10-15T20:50:00-08:00",
          "2025-10-15T21:00:00-08:00",
          "2025-10-15T21:10:00-08:00",
          "2025-10-15T21:20:00-08:00",
          "2025-10-15T21:30:00-08:00",
          "2025-10-15T21:40:00-08:00",
          "2025-10-15T21:50:00-08:00",
          "2025-10-15T22:00:00-08:00",
          "2025-10-15T22:10:00-08:00",
          "2025-10-15T22:20:00-08:00",
          "2025-10-15T22:30:00-08:00",
          "2025-10-15T22:40:00-08:00",
          "2025-10-15T22:50:00-08:00",
          "2025-10-15T23:00:00-08:00",
          "2025-10-15T23:10:00-08:00",
          "2025-10-15T23:20:00-08:00",
          "2025-10-15T23:30:00-08:00",
          "2025-10-15T23:40:00-08:00",
          "2025-10-15T23:50:00-08:00"
         ],
         "xaxis": "x",
         "y": {
          "bdata": "MzMzMzMzNkAzMzMzMzM2QHE9CtejMDZAcT0K16MwNkCuR+F6FC42QOxRuB6FKzZA7FG4HoUrNkApXI/C9Sg2QGZmZmZmJjZAZmZmZmYmNkCkcD0K1yM2QOF6FK5HITZA4XoUrkchNkAfhetRuB42QFyPwvUoHDZAXI/C9SgcNkCamZmZmRk2QNejcD0KFzZAFK5H4XoUNkAUrkfhehQ2QFK4HoXrETZAj8L1KFwPNkDNzMzMzAw2QArXo3A9CjZACtejcD0KNkBI4XoUrgc2QIXrUbgeBTZAw/UoXI8CNkAAAAAAAAA2QAAAAAAAADZAPQrXo3D9NUB7FK5H4fo1QLgehetR+DVA9ihcj8L1NUAzMzMzM/M1QHE9Ctej8DVArkfhehTuNUCuR+F6FO41QOxRuB6F6zVAKVyPwvXoNUBmZmZmZuY1QKRwPQrX4zVA4XoUrkfhNUDhehSuR+E1QB+F61G43jVAXI/C9SjcNUBcj8L1KNw1QJqZmZmZ2TVAmpmZmZnZNUCamZmZmdk1QNejcD0K1zVA16NwPQrXNUDXo3A9Ctc1QNejcD0K1zVAmpmZmZnZNUCamZmZmdk1QJqZmZmZ2TVAXI/C9SjcNUBcj8L1KNw1QB+F61G43jVA4XoUrkfhNUDhehSuR+E1QKRwPQrX4zVAZmZmZmbmNUApXI/C9eg1QOxRuB6F6zVArkfhehTuNUBxPQrXo/A1QDMzMzMz8zVAuB6F61H4NUB7FK5H4fo1QD0K16Nw/TVAAAAAAAAANkDD9ShcjwI2QEjhehSuBzZACtejcD0KNkDNzMzMzAw2QI/C9ShcDzZAUrgehesRNkAUrkfhehQ2QJqZmZmZGTZAXI/C9SgcNkAfhetRuB42QOF6FK5HITZApHA9CtcjNkBmZmZmZiY2QClcj8L1KDZA7FG4HoUrNkCuR+F6FC42QK5H4XoULjZAcT0K16MwNkAzMzMzMzM2QPYoXI/CNTZAuB6F61E4NkC4HoXrUTg2QHsUrkfhOjZAPQrXo3A9NkAAAAAAAEA2QAAAAAAAQDZAw/UoXI9CNkDD9Shcj0I2QIXrUbgeRTZAhetRuB5FNkBI4XoUrkc2QEjhehSuRzZACtejcD1KNkAK16NwPUo2QArXo3A9SjZAzczMzMxMNkDNzMzMzEw2QM3MzMzMTDZAzczMzMxMNkDNzMzMzEw2QM3MzMzMTDZAzczMzMxMNkDNzMzMzEw2QM3MzMzMTDZAzczMzMxMNkDNzMzMzEw2QM3MzMzMTDZAzczMzMxMNkDNzMzMzEw2QArXo3A9SjZACtejcD1KNkAK16NwPUo2QArXo3A9SjZASOF6FK5HNkBI4XoUrkc2QEjhehSuRzZAhetRuB5FNkCF61G4HkU2QIXrUbgeRTZAw/UoXI9CNkDD9Shcj0I2QAAAAAAAQDZAAAAAAABANkA9CtejcD02QD0K16NwPTZAPQrXo3A9NkB7FK5H4To2QHsUrkfhOjZAuB6F61E4NkC4HoXrUTg2QPYoXI/CNTZA",
          "dtype": "f8"
         },
         "yaxis": "y"
        }
       ],
       "layout": {
        "legend": {
         "title": {
          "text": "variable"
         },
         "tracegroupgap": 0
        },
        "margin": {
         "t": 60
        },
        "template": {
         "data": {
          "bar": [
           {
            "error_x": {
             "color": "#2a3f5f"
            },
            "error_y": {
             "color": "#2a3f5f"
            },
            "marker": {
             "line": {
              "color": "#E5ECF6",
              "width": 0.5
             },
             "pattern": {
              "fillmode": "overlay",
              "size": 10,
              "solidity": 0.2
             }
            },
            "type": "bar"
           }
          ],
          "barpolar": [
           {
            "marker": {
             "line": {
              "color": "#E5ECF6",
              "width": 0.5
             },
             "pattern": {
              "fillmode": "overlay",
              "size": 10,
              "solidity": 0.2
             }
            },
            "type": "barpolar"
           }
          ],
          "carpet": [
           {
            "aaxis": {
             "endlinecolor": "#2a3f5f",
             "gridcolor": "white",
             "linecolor": "white",
             "minorgridcolor": "white",
             "startlinecolor": "#2a3f5f"
            },
            "baxis": {
             "endlinecolor": "#2a3f5f",
             "gridcolor": "white",
             "linecolor": "white",
             "minorgridcolor": "white",
             "startlinecolor": "#2a3f5f"
            },
            "type": "carpet"
           }
          ],
          "choropleth": [
           {
            "colorbar": {
             "outlinewidth": 0,
             "ticks": ""
            },
            "type": "choropleth"
           }
          ],
          "contour": [
           {
            "colorbar": {
             "outlinewidth": 0,
             "ticks": ""
            },
            "colorscale": [
             [
              0,
              "#0d0887"
             ],
             [
              0.1111111111111111,
              "#46039f"
             ],
             [
              0.2222222222222222,
              "#7201a8"
             ],
             [
              0.3333333333333333,
              "#9c179e"
             ],
             [
              0.4444444444444444,
              "#bd3786"
             ],
             [
              0.5555555555555556,
              "#d8576b"
             ],
             [
              0.6666666666666666,
              "#ed7953"
             ],
             [
              0.7777777777777778,
              "#fb9f3a"
             ],
             [
              0.8888888888888888,
              "#fdca26"
             ],
             [
              1,
              "#f0f921"
             ]
            ],
            "type": "contour"
           }
          ],
          "contourcarpet": [
           {
            "colorbar": {
             "outlinewidth": 0,
             "ticks": ""
            },
            "type": "contourcarpet"
           }
          ],
          "heatmap": [
           {
            "colorbar": {
             "outlinewidth": 0,
             "ticks": ""
            },
            "colorscale": [
             [
              0,
              "#0d0887"
             ],
             [
              0.1111111111111111,
              "#46039f"
             ],
             [
              0.2222222222222222,
              "#7201a8"
             ],
             [
              0.3333333333333333,
              "#9c179e"
             ],
             [
              0.4444444444444444,
              "#bd3786"
             ],
             [
              0.5555555555555556,
              "#d8576b"
             ],
             [
              0.6666666666666666,
              "#ed7953"
             ],
             [
              0.7777777777777778,
              "#fb9f3a"
             ],
             [
              0.8888888888888888,
              "#fdca26"
             ],
             [
              1,
              "#f0f921"
             ]
            ],
            "type": "heatmap"
           }
          ],
          "histogram": [
           {
            "marker": {
             "pattern": {
              "fillmode": "overlay",
              "size": 10,
              "solidity": 0.2
             }
            },
            "type": "histogram"
           }
          ],
          "histogram2d": [
           {
            "colorbar": {
             "outlinewidth": 0,
             "ticks": ""
            },
            "colorscale": [
             [
              0,
              "#0d0887"
             ],
             [
              0.1111111111111111,
              "#46039f"
             ],
             [
              0.2222222222222222,
              "#7201a8"
             ],
             [
              0.3333333333333333,
              "#9c179e"
             ],
             [
              0.4444444444444444,
              "#bd3786"
             ],
             [
              0.5555555555555556,
              "#d8576b"
             ],
             [
              0.6666666666666666,
              "#ed7953"
             ],
             [
              0.7777777777777778,
              "#fb9f3a"
             ],
             [
              0.8888888888888888,
              "#fdca26"
             ],
             [
              1,
              "#f0f921"
             ]
            ],
            "type": "histogram2d"
           }
          ],
          "histogram2dcontour": [
           {
            "colorbar": {
             "outlinewidth": 0,
             "ticks": ""
            },
            "colorscale": [
             [
              0,
              "#0d0887"
             ],
             [
              0.1111111111111111,
              "#46039f"
             ],
             [
              0.2222222222222222,
              "#7201a8"
             ],
             [
              0.3333333333333333,
              "#9c179e"
             ],
             [
              0.4444444444444444,
              "#bd3786"
             ],
             [
              0.5555555555555556,
              "#d8576b"
             ],
             [
              0.6666666666666666,
              "#ed7953"
             ],
             [
              0.7777777777777778,
              "#fb9f3a"
             ],
             [
              0.8888888888888888,
              "#fdca26"
             ],
             [
              1,
              "#f0f921"
             ]
            ],
            "type": "histogram2dcontour"
           }
          ],
          "mesh3d": [
           {
            "colorbar": {
             "outlinewidth": 0,
             "ticks": ""
            },
            "type": "mesh3d"
           }
          ],
          "parcoords": [
           {
            "line": {
             "colorbar": {
              "outlinewidth": 0,
              "ticks": ""
             }
            },
            "type": "parcoords"
           }
          ],
          "pie": [
           {
            "automargin": true,
            "type": "pie"
           }
          ],
          "scatter": [
           {
            "fillpattern": {
             "fillmode": "overlay",
             "size": 10,
             "solidity": 0.2
            },
            "type": "scatter"
           }
          ],
          "scatter3d": [
           {
            "line": {
             "colorbar": {
              "outlinewidth": 0,
              "ticks": ""
             }
            },
            "marker": {
             "colorbar": {
              "outlinewidth": 0,
              "ticks": ""
             }
            },
            "type": "scatter3d"
           }
          ],
          "scattercarpet": [
           {
            "marker": {
             "colorbar": {
              "outlinewidth": 0,
              "ticks": ""
             }
            },
            "type": "scattercarpet"
           }
          ],
          "scattergeo": [
           {
            "marker": {
             "colorbar": {
              "outlinewidth": 0,
              "ticks": ""
             }
            },
            "type": "scattergeo"
           }
          ],
          "scattergl": [
           {
            "marker": {
             "colorbar": {
              "outlinewidth": 0,
              "ticks": ""
             }
            },
            "type": "scattergl"
           }
          ],
          "scattermap": [
           {
            "marker": {
             "colorbar": {
              "outlinewidth": 0,
              "ticks": ""
             }
            },
            "type": "scattermap"
           }
          ],
          "scattermapbox": [
           {
            "marker": {
             "colorbar": {
              "outlinewidth": 0,
              "ticks": ""
             }
            },
            "type": "scattermapbox"
           }
          ],
          "scatterpolar": [
           {
            "marker": {
             "colorbar": {
              "outlinewidth": 0,
              "ticks": ""
             }
            },
            "type": "scatterpolar"
           }
          ],
          "scatterpolargl": [
           {
            "marker": {
             "colorbar": {
              "outlinewidth": 0,
              "ticks": ""
             }
            },
            "type": "scatterpolargl"
           }
          ],
          "scatterternary": [
           {
            "marker": {
             "colorbar": {
              "outlinewidth": 0,
              "ticks": ""
             }
            },
            "type": "scatterternary"
           }
          ],
          "surface": [
           {
            "colorbar": {
             "outlinewidth": 0,
             "ticks": ""
            },
            "colorscale": [
             [
              0,
              "#0d0887"
             ],
             [
              0.1111111111111111,
              "#46039f"
             ],
             [
              0.2222222222222222,
              "#7201a8"
             ],
             [
              0.3333333333333333,
              "#9c179e"
             ],
             [
              0.4444444444444444,
              "#bd3786"
             ],
             [
              0.5555555555555556,
              "#d8576b"
             ],
             [
              0.6666666666666666,
              "#ed7953"
             ],
             [
              0.7777777777777778,
              "#fb9f3a"
             ],
             [
              0.8888888888888888,
              "#fdca26"
             ],
             [
              1,
              "#f0f921"
             ]
            ],
            "type": "surface"
           }
          ],
          "table": [
           {
            "cells": {
             "fill": {
              "color": "#EBF0F8"
             },
             "line": {
              "color": "white"
             }
            },
            "header": {
             "fill": {
              "color": "#C8D4E3"
             },
             "line": {
              "color": "white"
             }
            },
            "type": "table"
           }
          ]
         },
         "layout": {
          "annotationdefaults": {
           "arrowcolor": "#2a3f5f",
           "arrowhead": 0,
           "arrowwidth": 1
          },
          "autotypenumbers": "strict",
          "coloraxis": {
           "colorbar": {
            "outlinewidth": 0,
            "ticks": ""
           }
          },
          "colorscale": {
           "diverging": [
            [
             0,
             "#8e0152"
            ],
            [
             0.1,
             "#c51b7d"
            ],
            [
             0.2,
             "#de77ae"
            ],
            [
             0.3,
             "#f1b6da"
            ],
            [
             0.4,
             "#fde0ef"
            ],
            [
             0.5,
             "#f7f7f7"
            ],
            [
             0.6,
             "#e6f5d0"
            ],
            [
             0.7,
             "#b8e186"
            ],
            [
             0.8,
             "#7fbc41"
            ],
            [
             0.9,
             "#4d9221"
            ],
            [
             1,
             "#276419"
            ]
           ],
           "sequential": [
            [
             0,
             "#0d0887"
            ],
            [
             0.1111111111111111,
             "#46039f"
            ],
            [
             0.2222222222222222,
             "#7201a8"
            ],
            [
             0.3333333333333333,
             "#9c179e"
            ],
            [
             0.4444444444444444,
             "#bd3786"
            ],
            [
             0.5555555555555556,
             "#d8576b"
            ],
            [
             0.6666666666666666,
             "#ed7953"
            ],
            [
             0.7777777777777778,
             "#fb9f3a"
            ],
            [
             0.8888888888888888,
             "#fdca26"
            ],
            [
             1,
             "#f0f921"
            ]
           ],
           "sequentialminus": [
            [
             0,
             "#0d0887"
            ],
            [
             0.1111111111111111,
             "#46039f"
            ],
            [
             0.2222222222222222,
             "#7201a8"
            ],
            [
             0.3333333333333333,
             "#9c179e"
            ],
            [
             0.4444444444444444,
             "#bd3786"
            ],
            [
             0.5555555555555556,
             "#d8576b"
            ],
            [
             0.6666666666666666,
             "#ed7953"
            ],
            [
             0.7777777777777778,
             "#fb9f3a"
            ],
            [
             0.8888888888888888,
             "#fdca26"
            ],
            [
             1,
             "#f0f921"
            ]
           ]
          },
          "colorway": [
           "#636efa",
           "#EF553B",
           "#00cc96",
           "#ab63fa",
           "#FFA15A",
           "#19d3f3",
           "#FF6692",
           "#B6E880",
           "#FF97FF",
           "#FECB52"
          ],
          "font": {
           "color": "#2a3f5f"
          },
          "geo": {
           "bgcolor": "white",
           "lakecolor": "white",
           "landcolor": "#E5ECF6",
           "showlakes": true,
           "showland": true,
           "subunitcolor": "white"
          },
          "hoverlabel": {
           "align": "left"
          },
          "hovermode": "closest",
          "mapbox": {
           "style": "light"
          },
          "paper_bgcolor": "white",
          "plot_bgcolor": "#E5ECF6",
          "polar": {
           "angularaxis": {
            "gridcolor": "white",
            "linecolor": "white",
            "ticks": ""
           },
           "bgcolor": "#E5ECF6",
           "radialaxis": {
            "gridcolor": "white",
            "linecolor": "white",
            "ticks": ""
           }
          },
          "scene": {
           "xaxis": {
            "backgroundcolor": "#E5ECF6",
            "gridcolor": "white",
            "gridwidth": 2,
            "linecolor": "white",
            "showbackground": true,
            "ticks": "",
            "zerolinecolor": "white"
           },
           "yaxis": {
            "backgroundcolor": "#E5ECF6",
            "gridcolor": "white",
            "gridwidth": 2,
            "linecolor": "white",
            "showbackground": true,
            "ticks": "",
            "zerolinecolor": "white"
           },
           "zaxis": {
            "backgroundcolor": "#E5ECF6",
            "gridcolor": "white",
            "gridwidth": 2,
            "linecolor": "white",
            "showbackground": true,
            "ticks": "",
            "zerolinecolor": "white"
           }
          },
          "shapedefaults": {
           "line": {
            "color": "#2a3f5f"
           }
          },
          "ternary": {
           "aaxis": {
            "gridcolor": "white",
            "linecolor": "white",
            "ticks": ""
           },
           "baxis": {
            "gridcolor": "white",
            "linecolor": "white",
            "ticks": ""
           },
           "bgcolor": "#E5ECF6",
           "caxis": {
            "gridcolor": "white",
            "linecolor": "white",
            "ticks": ""
           }
          },
          "title": {
           "x": 0.05
          },
          "xaxis": {
           "automargin": true,
           "gridcolor": "white",
           "linecolor": "white",
           "ticks": "",
           "title": {
            "standoff": 15
           },
           "zerolinecolor": "white",
           "zerolinewidth": 2
          },
          "yaxis": {
           "automargin": true,
           "gridcolor": "white",
           "linecolor": "white",
           "ticks": "",
           "title": {
            "standoff": 15
           },
           "zerolinecolor": "white",
           "zerolinewidth": 2
          }
         }
        },
        "xaxis": {
         "anchor": "y",
         "domain": [
          0,
          1
         ],
         "title": {
          "text": "index"
         }
        },
        "yaxis": {
         "anchor": "x",
         "domain": [
          0,
          1
         ],
         "title": {
          "text": "value"
         }
        }
       }
      }
     },
     "metadata": {},
     "output_type": "display_data"
    }
   ],
   "source": [
    "px.scatter(\n",
    "    data_frame=solucion,\n",
    "    x=solucion.index,\n",
    "    y=[\"Ta\",\"Tsa_1\",\"Ti_1\"]\n",
    ")"
   ]
  },
  {
   "cell_type": "code",
   "execution_count": null,
   "id": "f7827423-1272-4d72-b85a-e2be96c3d21f",
   "metadata": {},
   "outputs": [],
   "source": []
  }
 ],
 "metadata": {
  "kernelspec": {
   "display_name": "Python 3 (ipykernel)",
   "language": "python",
   "name": "python3"
  },
  "language_info": {
   "codemirror_mode": {
    "name": "ipython",
    "version": 3
   },
   "file_extension": ".py",
   "mimetype": "text/x-python",
   "name": "python",
   "nbconvert_exporter": "python",
   "pygments_lexer": "ipython3",
   "version": "3.9.21"
  }
 },
 "nbformat": 4,
 "nbformat_minor": 5
}
