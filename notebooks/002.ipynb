{
 "cells": [
  {
   "cell_type": "code",
   "execution_count": 1,
   "id": "e3906c3f-71ba-40e6-9dcf-5e228bb771b9",
   "metadata": {},
   "outputs": [],
   "source": [
    "import enerhabitat as eh\n",
    "import pandas as pd \n",
    "import plotly.express as px\n",
    "import time\n",
    "\n",
    "eh.materials('../eh_config/materials.ini')\n",
    "file = \"../epw/MEX_MOR_Cuernavaca-Matamoros.Intl.AP.767260_TMYx.2004-2018.epw\""
   ]
  },
  {
   "cell_type": "code",
   "execution_count": 2,
   "id": "eccde164-b751-4d40-a14a-55a5e047161a",
   "metadata": {},
   "outputs": [],
   "source": [
    "def prueba(epw, sc, id):\n",
    "    dia_promedio = eh.meanDay(epw_file=epw)\n",
    "\n",
    "    tsa_df = eh.Tsa(\n",
    "    meanDay_dataframe=dia_promedio,\n",
    "    solar_absortance=0.8,\n",
    "    surface_tilt=90, \n",
    "    surface_azimuth=90,\n",
    "    )\n",
    "    \n",
    "    t0 = time.perf_counter()\n",
    "    \n",
    "    # sc_df , energia= eh.solveCS(sc, tsa_df, energia = True)\n",
    "    sc_df = eh.solveCS(sc, tsa_df)\n",
    "    \n",
    "    t1 = time.perf_counter()\n",
    "    # print(f\"Energia sin AC: {energia}\\nTardó {(t1 - t0)*1000:.3f} ms\\n\")\n",
    "    print(f\"Sin AC\\nTardó {(t1 - t0)*1000:.3f} ms\\n\")\n",
    "    \n",
    "    resultado = tsa_df.join(sc_df, how=\"right\")\n",
    "    solucion = pd.concat([resultado[['zenith', 'elevation', 'azimuth', 'equation_of_time', 'Tn', 'DeltaTn', 'Ta', 'Ig', 'Ib', 'Id', 'Is']], resultado[[\"Tsa\", \"Ti\"]].add_suffix(\"_1\", axis=1)], axis=1)\n",
    "\n",
    "    solucion.to_csv(f\"../data/solucion_sin_AC_{id}.csv\")\n",
    "\n",
    "    t0 = time.perf_counter()\n",
    "\n",
    "    # sc_df, Qc, Qh= eh.solveCS(sc, tsa_df, AC=True)\n",
    "    sc_df= eh.solveCS(sc, tsa_df, AC=True)\n",
    "    \n",
    "    t1 = time.perf_counter()\n",
    "    # print(f\"Energia cool: {Qc}  Energia heat: {Qh}\\nTardó {(t1 - t0)*1000:.3f} ms\\n\")\n",
    "    print(f\"Sin AC no implementado\\nTardó {(t1 - t0)*1000:.3f} ms\\n\")\n",
    "    \n",
    "    resultado = tsa_df.join(sc_df, how=\"right\")\n",
    "    solucion = pd.concat([resultado[['zenith', 'elevation', 'azimuth', 'equation_of_time', 'Tn', 'DeltaTn', 'Ta', 'Ig', 'Ib', 'Id', 'Is']], resultado[[\"Tsa\", \"Ti\"]].add_suffix(\"_1\", axis=1)], axis=1)\n",
    "\n",
    "    solucion.to_csv(f\"../data/solucion_AC_{id}.csv\")\n"
   ]
  },
  {
   "cell_type": "code",
   "execution_count": 3,
   "id": "7c26bb89-4de4-42b6-bd60-7c339b6d94df",
   "metadata": {},
   "outputs": [
    {
     "name": "stdout",
     "output_type": "stream",
     "text": [
      "Sin AC\n",
      "Tardó 4830.461 ms\n",
      "\n",
      "Sin AC no implementado\n",
      "Tardó 2468.049 ms\n",
      "\n"
     ]
    }
   ],
   "source": [
    "sc = [\n",
    "    (\"Adobe\", 0.1),\n",
    "    (\"Acero\", 0.1),\n",
    "    (\"Ladrillo\", 0.2),\n",
    "    (\"Adobe\", 0.1),\n",
    "    (\"Mortero\",0.1),\n",
    "    (\"Yeso\",0.1),\n",
    "    (\"Poliestireno alta densidad\",0.1),\n",
    "    (\"Concreto alta densidad\",0.1),\n",
    "]\n",
    "\n",
    "prueba(file, sc, \"002\")"
   ]
  },
  {
   "cell_type": "code",
   "execution_count": null,
   "id": "c0e8ec38-2bb8-4846-a07c-e49bbe91969a",
   "metadata": {},
   "outputs": [],
   "source": []
  }
 ],
 "metadata": {
  "kernelspec": {
   "display_name": "Python 3 (ipykernel)",
   "language": "python",
   "name": "python3"
  },
  "language_info": {
   "codemirror_mode": {
    "name": "ipython",
    "version": 3
   },
   "file_extension": ".py",
   "mimetype": "text/x-python",
   "name": "python",
   "nbconvert_exporter": "python",
   "pygments_lexer": "ipython3",
   "version": "3.10.16"
  }
 },
 "nbformat": 4,
 "nbformat_minor": 5
}
