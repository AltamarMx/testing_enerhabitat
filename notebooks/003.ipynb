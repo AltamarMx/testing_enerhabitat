{
 "cells": [
  {
   "cell_type": "code",
   "execution_count": 1,
   "id": "7213fb8b",
   "metadata": {},
   "outputs": [
    {
     "data": {
      "text/plain": [
       "'../eh_config/materials.ini'"
      ]
     },
     "execution_count": 1,
     "metadata": {},
     "output_type": "execute_result"
    }
   ],
   "source": [
    "import enerhabitat as eh\n",
    "import pandas as pd \n",
    "import plotly.express as px\n",
    "import time\n",
    "\n",
    "eh.materials('../eh_config/materials.ini')"
   ]
  },
  {
   "cell_type": "code",
   "execution_count": 3,
   "id": "59b40609",
   "metadata": {},
   "outputs": [
    {
     "name": "stdout",
     "output_type": "stream",
     "text": [
      "<class 'pandas.core.frame.DataFrame'>\n",
      "DatetimeIndex: 144 entries, 2025-10-15 00:00:00-06:00 to 2025-10-15 23:50:00-06:00\n",
      "Data columns (total 13 columns):\n",
      " #   Column            Non-Null Count  Dtype  \n",
      "---  ------            --------------  -----  \n",
      " 0   zenith            144 non-null    float64\n",
      " 1   elevation         144 non-null    float64\n",
      " 2   azimuth           144 non-null    float64\n",
      " 3   equation_of_time  144 non-null    float64\n",
      " 4   Tn                144 non-null    float64\n",
      " 5   DeltaTn           144 non-null    float64\n",
      " 6   Ta                144 non-null    float64\n",
      " 7   Ig                144 non-null    float64\n",
      " 8   Ib                144 non-null    float64\n",
      " 9   Id                144 non-null    float64\n",
      " 10  Is                144 non-null    float64\n",
      " 11  Tsa_1             144 non-null    float64\n",
      " 12  Ti_1              144 non-null    float64\n",
      "dtypes: float64(13)\n",
      "memory usage: 15.8 KB\n",
      "<class 'pandas.core.frame.DataFrame'>\n",
      "DatetimeIndex: 144 entries, 2025-10-15 00:00:00-06:00 to 2025-10-15 23:50:00-06:00\n",
      "Data columns (total 13 columns):\n",
      " #   Column            Non-Null Count  Dtype  \n",
      "---  ------            --------------  -----  \n",
      " 0   zenith            144 non-null    float64\n",
      " 1   elevation         144 non-null    float64\n",
      " 2   azimuth           144 non-null    float64\n",
      " 3   equation_of_time  144 non-null    float64\n",
      " 4   Tn                144 non-null    float64\n",
      " 5   DeltaTn           144 non-null    float64\n",
      " 6   Ta                144 non-null    float64\n",
      " 7   Ig                144 non-null    float64\n",
      " 8   Ib                144 non-null    float64\n",
      " 9   Id                144 non-null    float64\n",
      " 10  Is                144 non-null    float64\n",
      " 11  Tsa_1             144 non-null    float64\n",
      " 12  Ti_1              144 non-null    float64\n",
      "dtypes: float64(13)\n",
      "memory usage: 15.8 KB\n",
      "<class 'pandas.core.frame.DataFrame'>\n",
      "DatetimeIndex: 144 entries, 2025-10-15 00:00:00-06:00 to 2025-10-15 23:50:00-06:00\n",
      "Data columns (total 13 columns):\n",
      " #   Column            Non-Null Count  Dtype  \n",
      "---  ------            --------------  -----  \n",
      " 0   zenith            144 non-null    float64\n",
      " 1   elevation         144 non-null    float64\n",
      " 2   azimuth           144 non-null    float64\n",
      " 3   equation_of_time  144 non-null    float64\n",
      " 4   Tn                144 non-null    float64\n",
      " 5   DeltaTn           144 non-null    float64\n",
      " 6   Ta                144 non-null    float64\n",
      " 7   Ig                144 non-null    float64\n",
      " 8   Ib                144 non-null    float64\n",
      " 9   Id                144 non-null    float64\n",
      " 10  Is                144 non-null    float64\n",
      " 11  Tsa_1             144 non-null    float64\n",
      " 12  Ti_1              144 non-null    float64\n",
      "dtypes: float64(13)\n",
      "memory usage: 15.8 KB\n",
      "<class 'pandas.core.frame.DataFrame'>\n",
      "DatetimeIndex: 144 entries, 2025-10-15 00:00:00-06:00 to 2025-10-15 23:50:00-06:00\n",
      "Data columns (total 13 columns):\n",
      " #   Column            Non-Null Count  Dtype  \n",
      "---  ------            --------------  -----  \n",
      " 0   zenith            144 non-null    float64\n",
      " 1   elevation         144 non-null    float64\n",
      " 2   azimuth           144 non-null    float64\n",
      " 3   equation_of_time  144 non-null    float64\n",
      " 4   Tn                144 non-null    float64\n",
      " 5   DeltaTn           144 non-null    float64\n",
      " 6   Ta                144 non-null    float64\n",
      " 7   Ig                144 non-null    float64\n",
      " 8   Ib                144 non-null    float64\n",
      " 9   Id                144 non-null    float64\n",
      " 10  Is                144 non-null    float64\n",
      " 11  Tsa_1             144 non-null    float64\n",
      " 12  Ti_1              144 non-null    float64\n",
      "dtypes: float64(13)\n",
      "memory usage: 15.8 KB\n"
     ]
    }
   ],
   "source": [
    "docs = [\"../data/solucion_AC_001.csv\",\n",
    "        \"../data/solucion_AC_002.csv\",\n",
    "        \"../data/solucion_sin_AC_001.csv\",\n",
    "        \"../data/solucion_sin_AC_002.csv\"]\n",
    "dataframes = []\n",
    "for file in docs:\n",
    "    dataframes.append(pd.read_csv(file, index_col=0, parse_dates=True))\n",
    "    \n",
    "dataframes[0].info()\n",
    "dataframes[1].info()\n",
    "dataframes[2].info()\n",
    "dataframes[3].info()\n"
   ]
  },
  {
   "cell_type": "code",
   "execution_count": 7,
   "id": "d1c10586",
   "metadata": {},
   "outputs": [
    {
     "name": "stdout",
     "output_type": "stream",
     "text": [
      "Con AC : False\n",
      "Sin AC : False\n"
     ]
    }
   ],
   "source": [
    "print(f\"Con AC : {dataframes[0].equals(dataframes[1])}\")\n",
    "print(f\"Sin AC : {dataframes[2].equals(dataframes[3])}\")\n"
   ]
  },
  {
   "cell_type": "code",
   "execution_count": 8,
   "id": "a58708c4-c0a2-4002-bf45-98913bd00e2c",
   "metadata": {},
   "outputs": [
    {
     "data": {
      "text/html": [
       "<div>\n",
       "<style scoped>\n",
       "    .dataframe tbody tr th:only-of-type {\n",
       "        vertical-align: middle;\n",
       "    }\n",
       "\n",
       "    .dataframe tbody tr th {\n",
       "        vertical-align: top;\n",
       "    }\n",
       "\n",
       "    .dataframe thead th {\n",
       "        text-align: right;\n",
       "    }\n",
       "</style>\n",
       "<table border=\"1\" class=\"dataframe\">\n",
       "  <thead>\n",
       "    <tr style=\"text-align: right;\">\n",
       "      <th></th>\n",
       "      <th>zenith</th>\n",
       "      <th>elevation</th>\n",
       "      <th>azimuth</th>\n",
       "      <th>equation_of_time</th>\n",
       "      <th>Tn</th>\n",
       "      <th>DeltaTn</th>\n",
       "      <th>Ta</th>\n",
       "      <th>Ig</th>\n",
       "      <th>Ib</th>\n",
       "      <th>Id</th>\n",
       "      <th>Is</th>\n",
       "      <th>Tsa_1</th>\n",
       "      <th>Ti_1</th>\n",
       "    </tr>\n",
       "  </thead>\n",
       "  <tbody>\n",
       "  </tbody>\n",
       "</table>\n",
       "</div>"
      ],
      "text/plain": [
       "Empty DataFrame\n",
       "Columns: [zenith, elevation, azimuth, equation_of_time, Tn, DeltaTn, Ta, Ig, Ib, Id, Is, Tsa_1, Ti_1]\n",
       "Index: []"
      ]
     },
     "execution_count": 8,
     "metadata": {},
     "output_type": "execute_result"
    }
   ],
   "source": [
    "dataframes[0].merge(dataframes[1], how='inner')"
   ]
  },
  {
   "cell_type": "code",
   "execution_count": 9,
   "id": "161ab9a8-75f3-4673-b1f3-4323b836b62d",
   "metadata": {},
   "outputs": [
    {
     "data": {
      "text/html": [
       "<div>\n",
       "<style scoped>\n",
       "    .dataframe tbody tr th:only-of-type {\n",
       "        vertical-align: middle;\n",
       "    }\n",
       "\n",
       "    .dataframe tbody tr th {\n",
       "        vertical-align: top;\n",
       "    }\n",
       "\n",
       "    .dataframe thead th {\n",
       "        text-align: right;\n",
       "    }\n",
       "</style>\n",
       "<table border=\"1\" class=\"dataframe\">\n",
       "  <thead>\n",
       "    <tr style=\"text-align: right;\">\n",
       "      <th></th>\n",
       "      <th>zenith</th>\n",
       "      <th>elevation</th>\n",
       "      <th>azimuth</th>\n",
       "      <th>equation_of_time</th>\n",
       "      <th>Tn</th>\n",
       "      <th>DeltaTn</th>\n",
       "      <th>Ta</th>\n",
       "      <th>Ig</th>\n",
       "      <th>Ib</th>\n",
       "      <th>Id</th>\n",
       "      <th>Is</th>\n",
       "      <th>Tsa_1</th>\n",
       "      <th>Ti_1</th>\n",
       "    </tr>\n",
       "  </thead>\n",
       "  <tbody>\n",
       "  </tbody>\n",
       "</table>\n",
       "</div>"
      ],
      "text/plain": [
       "Empty DataFrame\n",
       "Columns: [zenith, elevation, azimuth, equation_of_time, Tn, DeltaTn, Ta, Ig, Ib, Id, Is, Tsa_1, Ti_1]\n",
       "Index: []"
      ]
     },
     "execution_count": 9,
     "metadata": {},
     "output_type": "execute_result"
    }
   ],
   "source": [
    "dataframes[2].merge(dataframes[3], how='inner')"
   ]
  },
  {
   "cell_type": "code",
   "execution_count": null,
   "id": "12450c28-9989-43f9-b21b-043ab05b79b9",
   "metadata": {},
   "outputs": [],
   "source": []
  }
 ],
 "metadata": {
  "kernelspec": {
   "display_name": "Python 3 (ipykernel)",
   "language": "python",
   "name": "python3"
  },
  "language_info": {
   "codemirror_mode": {
    "name": "ipython",
    "version": 3
   },
   "file_extension": ".py",
   "mimetype": "text/x-python",
   "name": "python",
   "nbconvert_exporter": "python",
   "pygments_lexer": "ipython3",
   "version": "3.10.16"
  }
 },
 "nbformat": 4,
 "nbformat_minor": 5
}
